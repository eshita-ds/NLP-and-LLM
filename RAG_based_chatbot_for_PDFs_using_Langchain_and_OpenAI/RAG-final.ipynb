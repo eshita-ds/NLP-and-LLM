{
 "cells": [
  {
   "cell_type": "markdown",
   "id": "4241bd7a-e761-4500-af19-b720f0de6ee3",
   "metadata": {},
   "source": [
    "## Data 255 - Lab2 Part 3\n",
    "\n",
    "### Part 3 - PDF RAG LLM with Langchain"
   ]
  },
  {
   "cell_type": "code",
   "execution_count": 1,
   "id": "bdf799cf-692b-4045-a8e8-e7c0a12bdf5c",
   "metadata": {},
   "outputs": [],
   "source": [
    "import os\n",
    "import openai\n",
    "from langchain.document_loaders import PyPDFLoader\n",
    "\n",
    "from chromadb import Client\n",
    "import re"
   ]
  },
  {
   "cell_type": "markdown",
   "id": "09746b14-4cfd-49a9-8639-436215e3c281",
   "metadata": {},
   "source": [
    "**Importing API Key from environment file**"
   ]
  },
  {
   "cell_type": "code",
   "execution_count": 2,
   "id": "2396caae-975f-4cfa-8a77-6a9ffac27779",
   "metadata": {},
   "outputs": [],
   "source": [
    "from dotenv import load_dotenv\n",
    "load_dotenv()\n",
    "openai_api_key = os.getenv(\"OPENAI_API_KEY\")\n",
    "\n",
    "if openai_api_key is None:\n",
    "    raise ValueError(\"API key is not set. Please set the OPENAI_API_KEY environment variable.\")"
   ]
  },
  {
   "cell_type": "code",
   "execution_count": 3,
   "id": "115369e1-aa95-44f5-b090-4a94054d32a8",
   "metadata": {
    "tags": []
   },
   "outputs": [],
   "source": [
    "pdf_directory = \"./pdf/\"\n",
    "\n",
    "if not os.path.isdir(pdf_directory):\n",
    "    raise ValueError(f\"The directory {pdf_directory} does not exist!\")"
   ]
  },
  {
   "cell_type": "markdown",
   "id": "95a57260-fff6-46df-a9ab-693571a815ff",
   "metadata": {},
   "source": [
    "**Loading PDF files from the source directory**"
   ]
  },
  {
   "cell_type": "code",
   "execution_count": 4,
   "id": "25bea732-3ad9-47d9-82db-4c768a79366a",
   "metadata": {
    "tags": []
   },
   "outputs": [],
   "source": [
    "pdf_files = [f for f in os.listdir(pdf_directory) if f.endswith('.pdf')]"
   ]
  },
  {
   "cell_type": "code",
   "execution_count": 5,
   "id": "450a82fe-5e14-48b0-9317-d1226ef1e9c4",
   "metadata": {},
   "outputs": [],
   "source": [
    "from langchain.schema import Document\n",
    "documents = []\n",
    "\n",
    "for pdf_file in pdf_files:\n",
    "    pdf_path = os.path.join(pdf_directory, pdf_file)\n",
    "    loader = PyPDFLoader(pdf_path)\n",
    "    \n",
    "    loaded_documents = loader.load()\n",
    "    \n",
    "    for doc in loaded_documents:\n",
    "        documents.append(Document(metadata=doc.metadata, page_content=doc.page_content))"
   ]
  },
  {
   "cell_type": "code",
   "execution_count": 6,
   "id": "b84f8ccc-7d4b-40d9-9bb2-a58a143139d7",
   "metadata": {},
   "outputs": [],
   "source": [
    "from langchain.document_loaders import PyPDFLoader\n",
    "from langchain.embeddings import OpenAIEmbeddings\n",
    "from langchain.vectorstores import Chroma\n",
    "from langchain.text_splitter import CharacterTextSplitter\n",
    "import os"
   ]
  },
  {
   "cell_type": "code",
   "execution_count": 7,
   "id": "ce9cd74c-dda1-47d4-b855-1701988ea9a8",
   "metadata": {},
   "outputs": [],
   "source": [
    "openai.api_key = openai_api_key"
   ]
  },
  {
   "cell_type": "markdown",
   "id": "e6be23ee-9f05-4207-89f7-6ab6509391f3",
   "metadata": {},
   "source": [
    "**Fetch OPEN AI Embeddings**"
   ]
  },
  {
   "cell_type": "code",
   "execution_count": 8,
   "id": "61fd6c65-8650-413e-8ccf-55e986e0e86d",
   "metadata": {},
   "outputs": [],
   "source": [
    "from langchain_openai import OpenAIEmbeddings\n",
    "embed_model = OpenAIEmbeddings()"
   ]
  },
  {
   "cell_type": "markdown",
   "id": "c86313ec-ff5f-4447-8c81-96c47d44ee13",
   "metadata": {},
   "source": [
    "**Convert Loaded Document into chunks using Semantic Chunker**"
   ]
  },
  {
   "cell_type": "code",
   "execution_count": 9,
   "id": "64d5e371-d730-4766-97f0-9036259f51cb",
   "metadata": {},
   "outputs": [],
   "source": [
    "from langchain_experimental.text_splitter import SemanticChunker\n",
    "from langchain_openai.embeddings import OpenAIEmbeddings\n",
    "\n",
    "semantic_chunker = SemanticChunker(embed_model, breakpoint_threshold_type=\"percentile\")"
   ]
  },
  {
   "cell_type": "code",
   "execution_count": 10,
   "id": "3d7ef0a0-afd3-4efc-8a22-23e950d04e5e",
   "metadata": {},
   "outputs": [],
   "source": [
    "semantic_chunks = semantic_chunker.create_documents([d.page_content for d in documents])"
   ]
  },
  {
   "cell_type": "markdown",
   "id": "99246b94-e089-4fba-b0ca-d2874b557012",
   "metadata": {},
   "source": [
    "**Creating Vectorstore using ChromaDB**"
   ]
  },
  {
   "cell_type": "code",
   "execution_count": 11,
   "id": "c47d06ec-0e2c-41a5-b316-1d39d6165636",
   "metadata": {},
   "outputs": [],
   "source": [
    "persist_directory = \"./chroma_db_2\""
   ]
  },
  {
   "cell_type": "code",
   "execution_count": 12,
   "id": "e5ec6b8d-ecfd-4cc1-84fb-88703c06482e",
   "metadata": {},
   "outputs": [],
   "source": [
    "!rm -r ./chroma_db_2"
   ]
  },
  {
   "cell_type": "code",
   "execution_count": 13,
   "id": "23ad5103-bc2e-4f21-8477-fa5596afefd0",
   "metadata": {},
   "outputs": [],
   "source": [
    "if not os.path.exists(persist_directory):\n",
    "    os.makedirs(persist_directory)\n",
    "\n",
    "vectorstore = Chroma.from_documents(semantic_chunks, embed_model, persist_directory=persist_directory)"
   ]
  },
  {
   "cell_type": "code",
   "execution_count": 14,
   "id": "e3537858-e65a-43f9-a282-624b94e6435a",
   "metadata": {},
   "outputs": [],
   "source": [
    "retriever = vectorstore.as_retriever()"
   ]
  },
  {
   "cell_type": "markdown",
   "id": "4ab32cf3-60eb-4316-b977-a16f0c174fe9",
   "metadata": {},
   "source": [
    "**Validate the Retriever**"
   ]
  },
  {
   "cell_type": "code",
   "execution_count": 15,
   "id": "97bf64bc-8eac-44b0-95de-66f1a0fb2c4d",
   "metadata": {},
   "outputs": [
    {
     "data": {
      "text/plain": [
       "[Document(metadata={}, page_content='NEWS RELEASE\\nMeta Reports Fourth Quarter and Full Year 2023Results; Initiates Quarterly Dividend\\nMENLO PARK, Calif., Feb. 1, 2024 /PRNewswire/ -- Meta Platforms, Inc. (Nasdaq: META) today reported \\x00nancial\\nresults for the quarter and full year ended December 31, 2023. \"We had a good quarter as our community and business continue to grow,\" said Mark Zuckerberg, Meta founder\\nand CEO. \"We\\'ve made a lot of progress on our vision for advancing AI and the metaverse.\"\\xa0\\n\\xa0\\nFourth Quarter and Full Year 2023 Financial Highlights\\n Three Months Ended December 31, \\n\\xa0% Change\\n Twelve Months Ended December 31, \\n% ChangeIn millions, except percentages and per\\xa0share amounts \\xa0 \\xa0\\xa02023 2022  2023 2022  \\nRevenue $ 40,111 $ 32,165 25\\xa0% $ 134,902 $ 116,609 16\\xa0%\\nCosts and expenses 23,727  25,766 (8)\\xa0%  88,151  87,665 1\\xa0%\\nIncome from operations$ 16,384 $ 6,399 156\\xa0% $ 46,751 $ 28,944 62\\xa0%\\nOperating margin 41\\xa0%  20\\xa0%    35\\xa0%  25\\xa0%  \\nProvision for income taxes$ 2,791 $ 1,497 86\\xa0% $ 8,330 $ 5,619 48\\xa0%\\nE\\x00ective tax rate  17\\xa0%  24\\xa0%    18\\xa0%  19\\xa0%  \\nNet income $ 14,017 $ 4,652 201\\xa0% $ 39,098 $ 23,200 69\\xa0%\\nDiluted earnings per share (EPS)$ 5.33 $ 1.76 203\\xa0% $ 14.87 $ 8.59 73\\xa0%\\n\\xa0\\nFourth Quarter and Full Year 2023 Operational and Other Financial Highlights\\nFamily daily active people (DAP) – DAP was 3.19 billion on average for December 2023, an increase of 8% year-\\nover-year. Family monthly active people (MAP) – MAP was 3.98 billion as of December 31, 2023, an increase of 6% year-\\nover-year.'),\n",
       " Document(metadata={}, page_content='Meta builds technologies that help people connect, \\x00nd communities, and grow businesses. When Facebook\\nlaunched in 2004, it changed the way people connect. Apps like Messenger, Instagram, and WhatsApp further\\nempowered billions around the world. Now, Meta is moving beyond 2D screens toward immersive experiences like\\naugmented and virtual reality to help build the next evolution in social technology. Contacts\\nInvestors: Kenneth Dorell investor@meta.com\\xa0/ investor.fb.com\\nPress: Ryan Moore press@meta.com\\xa0/ about.fb.com/news/\\nForward-Looking Statements\\nThis press release contains forward-looking statements regarding our future business plans and expectations. These forward-looking statements are only predictions and may di\\x00er materially from actual results due to a variety\\nof factors including: the impact of macroeconomic conditions on our business and \\x00nancial results, including as a\\nresult of geopolitical events; our ability to retain or increase users and engagement levels; our reliance on\\nadvertising revenue; our dependency on data signals and mobile operating systems, networks, and standards that\\nwe do not control; changes to the content or application of third-party policies that impact our advertising\\npractices; risks associated with new products and changes to existing products as well as other new business\\ninitiatives, including our metaverse e\\x00orts; our emphasis on community growth and engagement and the user\\nexperience over short-term \\x00nancial results; maintaining and enhancing our brand and reputation; our ongoing\\nprivacy, safety, security, and content review e\\x00orts; competition; risks associated with government actions that\\ncould restrict access to our products or impair our ability to sell advertising in certain countries; litigation and\\ngovernment inquiries; privacy, legislative, and regulatory concerns or developments; risks associated with\\nacquisitions; security breaches; our ability to manage our scale and geographically-dispersed operations; and\\nmarket conditions or other factors a\\x00ecting the payment of dividends. These and other potential risks and\\nuncertainties that could cause actual results to di\\x00er from the results predicted are more fully detailed under the\\ncaption \"Risk Factors\" in our Quarterly Report on Form 10-Q \\x00led with the SEC on October\\xa026, 2023, which is\\navailable on our Investor Relations website at investor.fb.com and on the SEC website at www.sec.gov. Additional\\ninformation will also be set forth in our Annual Report on Form 10-K for the year ended December 31, 2023. In\\naddition, please note that the date of this press release is February 1, 2024, and any forward-looking statements\\ncontained herein are based on assumptions that we believe to be reasonable as of this date. We undertake no\\nobligation to update these statements as a result of new information or future events.'),\n",
       " Document(metadata={}, page_content=\"Costs and expenses – Total costs and expenses were $23.73 billion and $88.15 billion for the fourth quarter\\nand full year 2023, a decrease of 8% and an increase of 1% year-over-year, respectively. Restructuring charges\\nincluded in costs and expenses were $1.15 billion and $3.45 billion for the fourth quarter and full year 2023,\\nrespectively. Capital expenditures – Capital expenditures, including principal payments on \\x00nance leases, were $7.90\\nbillion and $28.10 billion for the fourth quarter and full year 2023, respectively. Share repurchases – We repurchased $6.32 billion and $20.03 billion of our Class A common stock in the\\nfourth quarter and full year 2023, respectively. As of December 31, 2023, we had $30.93 billion available and\\nauthorized for repurchases. We also announced a $50 billion increase in our share repurchase authorization\\ntoday. Cash, cash equivalents, and marketable securities – Cash, cash equivalents, and marketable securities were\\n$65.40 billion as of December 31, 2023. Free cash \\x00ow was $11.50 billion and $43.01 billion for the fourth\\nquarter and full year 2023, respectively. Long-term debt – Long-term debt was $18.39 billion as of December 31, 2023. Headcount – Headcount was 67,317 as of December 31, 2023, a decrease of 22% year-over-year. Meta Initiates Quarterly Dividend\\nToday, Meta's board of directors declared a cash dividend of $0.50 per share of our outstanding common stock\\n(including both Class A common stock and Class B common stock), payable on March 26, 2024 to stockholders of\\nrecord as of the close of business on February 22, 2024. We intend to pay a cash dividend on a quarterly basis going\\nforward, subject to market conditions and approval by our board of directors.\"),\n",
       " Document(metadata={}, page_content=\"We will\\nlook to build on our progress in each of those areas in 2024 while advancing our ambitious, longer-term e\\x00orts in\\nAI and Reality Labs. Webcast and Conference Call Information\\nMeta will host a conference call to discuss the results at 1:30 p.m. PT / 4:30 p.m. ET today. The live webcast of\\nMeta's earnings conference call can be accessed at investor.fb.com, along with the earnings press release, \\x00nancial\\ntables, and slide presentation. Meta uses the investor.fb.com and about.fb.com/news/ websites as well as Mark\\nZuckerberg's Facebook Page (facebook.com/zuck), Instagram account (instagram.com/zuck) and Threads pro\\x00le\\n(threads.net/zuck) as means of disclosing material non-public information and for complying with its disclosure\\nobligations under Regulation FD. Following the call, a replay will be available at the same website. A telephonic replay will be available for one week\\nfollowing the conference call at +1 (800) 770-2030 or +1 (647) 362-9199, conference ID 8032328. Transcripts of conference calls with publishing equity research analysts held today will also be posted to the\\ninvestor.fb.com website. About Meta\\n3\")]"
      ]
     },
     "execution_count": 15,
     "metadata": {},
     "output_type": "execute_result"
    }
   ],
   "source": [
    "retriever.invoke(\"How did Meta’s workforce change by the end of 2023?\")"
   ]
  },
  {
   "cell_type": "code",
   "execution_count": 16,
   "id": "3f9df96c-96e3-405c-87e5-dbc1bd5ab98f",
   "metadata": {},
   "outputs": [],
   "source": [
    "from langchain.chat_models import ChatOpenAI\n",
    "from langchain.prompts import PromptTemplate\n",
    "from rouge_score import rouge_scorer\n",
    "from torchmetrics.text.rouge import ROUGEScore\n",
    "from pprint import pprint\n",
    "from langchain.chains import RetrievalQA\n",
    "from langchain.retrievers.multi_query import MultiQueryRetriever"
   ]
  },
  {
   "cell_type": "markdown",
   "id": "af41cc1d-dea2-4636-afce-ca0964170b88",
   "metadata": {},
   "source": [
    "**Setup LLM for RAG Chain**"
   ]
  },
  {
   "cell_type": "code",
   "execution_count": 17,
   "id": "8bbbbf64-c6c2-4ffa-8a36-5caf5fb66180",
   "metadata": {},
   "outputs": [],
   "source": [
    "from langchain_openai import ChatOpenAI\n",
    "llm = ChatOpenAI(model_name=\"gpt-3.5-turbo\", temperature=0)"
   ]
  },
  {
   "cell_type": "code",
   "execution_count": 18,
   "id": "b9a5adcb-61d9-4313-818f-d95e27cb3eda",
   "metadata": {},
   "outputs": [],
   "source": [
    "retriever = vectorstore.as_retriever()"
   ]
  },
  {
   "cell_type": "code",
   "execution_count": 19,
   "id": "a26c1515-7951-4121-932c-c13306234bc3",
   "metadata": {},
   "outputs": [],
   "source": [
    "rag_chain = RetrievalQA.from_chain_type(\n",
    "    llm=llm,\n",
    "    retriever=retriever,\n",
    "    return_source_documents=True,\n",
    "    chain_type_kwargs={\n",
    "        \"prompt\": PromptTemplate(\n",
    "            template=\"\"\"\n",
    "            You are a helpful assistant for answering complex questions.\n",
    "            Please answer the following question based on Context provided. \n",
    "            Use three sentences maximum and keep it concise.  \n",
    "            Do not give bullet points in answers, it should be a single paragraph.\n",
    "            If you don't know the answer, just say that you don't know.\n",
    "            \n",
    "            Context: {context} \\n\n",
    "\n",
    "            Question: {question} \\n\n",
    "\n",
    "            Answer:\n",
    "            \"\"\",\n",
    "            input_variables=[\"context\", \"question\"],\n",
    "        )\n",
    "    },\n",
    ")"
   ]
  },
  {
   "cell_type": "code",
   "execution_count": 20,
   "id": "3f462a9f-9979-4b84-af9b-a7bfdc0e980f",
   "metadata": {},
   "outputs": [],
   "source": [
    "def get_response(question):\n",
    "    response = rag_chain.invoke({\"query\": question})\n",
    "    answer = response[\"result\"]\n",
    "    return answer"
   ]
  },
  {
   "cell_type": "markdown",
   "id": "81372bbc-ff8f-4cb3-a15b-efceb216e2a6",
   "metadata": {},
   "source": [
    "**Fetch answers for questions using RAG Chain**"
   ]
  },
  {
   "cell_type": "code",
   "execution_count": 21,
   "id": "ba022bdb-0b5c-4627-b381-0a06b639c084",
   "metadata": {},
   "outputs": [
    {
     "name": "stdout",
     "output_type": "stream",
     "text": [
      "Question: 1. How did Meta’s workforce change by the end of 2023?\n",
      "Answer: Meta's headcount was 67,317 as of December 31, 2023, showing a decrease of 22% year-over-year.\n",
      "-------------------------\n",
      "Question: 2. What is the report quarter, and when did it end?\n",
      "Answer: The report is for the fourth quarter of 2023, which ended on December 31, 2023.\n",
      "-------------------------\n",
      "Question: 3. What were the key financial highlights this quarter(revenue, gross margin, operating expenses, operating margin, net income, and EPS. )?\n",
      "Answer: The key financial highlights for this quarter include revenue of $40.11 billion, operating expenses of $23.73 billion, operating margin of 41%, net income of $14.02 billion, and diluted earnings per share of $5.33.\n",
      "-------------------------\n",
      "Question: 4. How much did Meta spend on restructuring for the whole year and Q4?\n",
      "Answer: Meta spent $3.45 billion on restructuring for the full year 2023 and $1.15 billion in the fourth quarter of 2023.\n",
      "-------------------------\n",
      "Question: 5. What happened with Meta’s ad impressions and average price per ad in Q4 and for the whole year?\n",
      "Answer: In the fourth quarter of 2023, ad impressions increased by 21% year-over-year, and the average price per ad increased by 2% year-over-year. For the full year 2023, ad impressions increased by 28% year-over-year, while the average price per ad decreased by 9% year-over-year.\n",
      "-------------------------\n",
      "Question: 6. What’s the revenue outlook for Q1 2024?\n",
      "Answer: The revenue outlook for Q1 2024 is expected to be in the range of $34.5-37 billion, assuming foreign currency is neutral to year-over-year total revenue growth based on current exchange rates. This guidance reflects the company's expectations for the first quarter of 2024.\n",
      "-------------------------\n",
      "Question: 7. What were Meta’s total costs and expenses for Q4 and the full year 2023?\n",
      "Answer: Meta's total costs and expenses were $23.73 billion for the fourth quarter and $88.15 billion for the full year 2023.\n",
      "-------------------------\n",
      "Question: 8. How much cash and marketable securities did Meta have on hand as of December 31, 2023?\n",
      "Answer: As of December 31, 2023, Meta Platforms, Inc. had $41.862 billion in cash and cash equivalents and $23.541 billion in marketable securities on hand. This totaled to $65.403 billion in cash, cash equivalents, and marketable securities.\n",
      "-------------------------\n",
      "Question: 9. What were the main areas Meta invested in during 2023?\n",
      "Answer: Meta invested in advancing AI and the metaverse, focusing on immersive experiences like augmented and virtual reality to build the next evolution in social technology. They also emphasized community growth and engagement, moving beyond 2D screens to create technologies that help people connect, find communities, and grow businesses. Additionally, Meta made progress in AI and Reality Labs, with plans to continue advancing these areas in 2024.\n",
      "-------------------------\n",
      "Question: 10.How did the Family of Apps and Reality Labs perform in Q4 2023?\n",
      "Answer: In Q4 2023, the Family of Apps reported income from operations of $21,030, showing significant growth from the previous year. On the other hand, Reality Labs reported an operating loss of $4,646, which was slightly higher than the previous year. Overall, the Family of Apps performed well, while Reality Labs faced challenges in profitability.\n",
      "-------------------------\n",
      "Question: 11.How much free cash flow did Meta generate in Q4 and the full year 2023?\n",
      "Answer: Meta generated $11.50 billion in free cash flow for the fourth quarter of 2023 and $43.01 billion for the full year 2023.\n",
      "-------------------------\n",
      "Question: 12.Did Meta make any changes to its stock repurchase program or dividends for 2024?\n",
      "Answer: Yes, Meta announced a $50 billion increase in its share repurchase authorization and initiated a quarterly cash dividend of $0.50 per share of outstanding common stock for 2024.\n",
      "-------------------------\n",
      "Question: 13.What risks did Meta highlight for 2024?\n",
      "Answer: Meta highlighted several risks for 2024, including macroeconomic conditions impacting business and financial results, user retention and engagement levels, reliance on advertising revenue, changes in third-party policies affecting advertising practices, risks associated with new products and initiatives like the metaverse, privacy, safety, security, and content review efforts, competition, government actions restricting access or advertising, security breaches, and market conditions affecting dividends.\n",
      "-------------------------\n",
      "Question: 14.What drove Meta’s revenue growth in Q4 2023?\n",
      "Answer: Meta's revenue growth in Q4 2023 was primarily driven by an increase in advertising revenue, which saw a 24% year-over-year change. Additionally, the company reported growth in other revenue streams, such as from the Family of Apps and Reality Labs. These factors contributed to the overall revenue increase for the quarter.\n",
      "-------------------------\n",
      "Question: 15.How did Reality Labs perform throughout 2023, and what’s Meta’s plan for 2024?\n",
      "Answer: Reality Labs had a loss in 2023, with a decrease in performance compared to the previous year. Meta plans to advance its efforts in AI and Reality Labs in 2024, aiming to build on progress made in these areas.\n",
      "-------------------------\n"
     ]
    }
   ],
   "source": [
    "questions = [\n",
    "             \"1. How did Meta’s workforce change by the end of 2023?\",\n",
    "             \"2. What is the report quarter, and when did it end?\",\n",
    "             \"3. What were the key financial highlights this quarter(revenue, gross margin, operating expenses, operating margin, net income, and EPS. )?\",\n",
    "             \"4. How much did Meta spend on restructuring for the whole year and Q4?\",\n",
    "             \"5. What happened with Meta’s ad impressions and average price per ad in Q4 and for the whole year?\",\n",
    "             \"6. What’s the revenue outlook for Q1 2024?\",\n",
    "             \"7. What were Meta’s total costs and expenses for Q4 and the full year 2023?\",\n",
    "             \"8. How much cash and marketable securities did Meta have on hand as of December 31, 2023?\",\n",
    "             \"9. What were the main areas Meta invested in during 2023?\",\n",
    "             \"10.How did the Family of Apps and Reality Labs perform in Q4 2023?\",\n",
    "             \"11.How much free cash flow did Meta generate in Q4 and the full year 2023?\",\n",
    "             \"12.Did Meta make any changes to its stock repurchase program or dividends for 2024?\",\n",
    "             \"13.What risks did Meta highlight for 2024?\",\n",
    "             \"14.What drove Meta’s revenue growth in Q4 2023?\",\n",
    "             \"15.How did Reality Labs perform throughout 2023, and what’s Meta’s plan for 2024?\"\n",
    "            ]\n",
    "answers_list=[]\n",
    "for question in questions:\n",
    "    answer = get_response(question)\n",
    "    answers_list.append(answer)\n",
    "    print(\"Question:\", question)\n",
    "    print(\"Answer:\", answer)\n",
    "    print(\"-------------------------\")"
   ]
  },
  {
   "cell_type": "code",
   "execution_count": 22,
   "id": "7151c239-a905-45b5-8381-2859e5777cdd",
   "metadata": {},
   "outputs": [
    {
     "name": "stderr",
     "output_type": "stream",
     "text": [
      "[nltk_data] Downloading package punkt to /Users/shitgupt/nltk_data...\n",
      "[nltk_data]   Unzipping tokenizers/punkt.zip.\n"
     ]
    },
    {
     "data": {
      "text/plain": [
       "True"
      ]
     },
     "execution_count": 22,
     "metadata": {},
     "output_type": "execute_result"
    }
   ],
   "source": [
    "scorer = rouge_scorer.RougeScorer(['rouge1', 'rouge2', 'rougeL', 'rougeLsum'], use_stemmer=True)\n",
    "rouge = ROUGEScore()\n",
    "import nltk\n",
    "nltk.download('punkt')"
   ]
  },
  {
   "cell_type": "markdown",
   "id": "12b115e7-8e85-4fd9-a3a6-e5ec4142d35f",
   "metadata": {},
   "source": [
    "**Calculate ROGUE Score for original vs response answers**"
   ]
  },
  {
   "cell_type": "code",
   "execution_count": 23,
   "id": "de17ccee-7b1a-45fa-bbb8-bfae8361056f",
   "metadata": {},
   "outputs": [
    {
     "name": "stdout",
     "output_type": "stream",
     "text": [
      "{'rouge1_fmeasure': tensor(0.7885),\n",
      " 'rouge1_precision': tensor(0.8255),\n",
      " 'rouge1_recall': tensor(0.7687),\n",
      " 'rouge2_fmeasure': tensor(0.6735),\n",
      " 'rouge2_precision': tensor(0.7042),\n",
      " 'rouge2_recall': tensor(0.6571),\n",
      " 'rougeL_fmeasure': tensor(0.7360),\n",
      " 'rougeL_precision': tensor(0.7694),\n",
      " 'rougeL_recall': tensor(0.7180),\n",
      " 'rougeLsum_fmeasure': tensor(0.7738),\n",
      " 'rougeLsum_precision': tensor(0.8098),\n",
      " 'rougeLsum_recall': tensor(0.7545)}\n"
     ]
    }
   ],
   "source": [
    "original_answers = [\n",
    "    \"Meta's headcount was 67,317 as of December 31, 2023, showing a decrease of 22% year-over-year.\",\n",
    "    \"The reported quarter is the fourth quarter of 2023. It ended on December 31, 2023.\",\n",
    "    \"The key financial highlights this quarter were: Revenue of $40.11 billion, operating margin of 41%, net income of $14.02 billion, and diluted earnings per share of $5.33. Operating expenses totaled $23.73 billion, resulting in a 156% increase in income from operations.\",\n",
    "    \"Meta spent a total of $3.45 billion on restructuring for the full year 2023 and $1.15 billion in the fourth quarter of 2023.\",\n",
    "    \"In the fourth quarter of 2023, ad impressions increased by 21% year-over-year, and the average price per ad increased by 2% year-over-year. For the full year 2023, ad impressions increased by 28% year-over-year, and the average price per ad decreased by 9% year-over-year.\",\n",
    "    \"The revenue outlook for Q1 2024 is expected to be in the range of $34.5-37 billion, according to the CFO's commentary. This guidance assumes foreign currency neutrality to year-over-year total revenue growth at current exchange rates.\",\n",
    "    \"Meta's total costs and expenses were $23.73 billion for Q4 2023 and $88.15 billion for the full year 2023.\",\n",
    "    \"As of December 31, 2023, Meta Platforms, Inc. had $65.40 billion in cash, cash equivalents, and marketable securities on hand. Meta has $41.86 billion in cash and cash equivalents and $23.51 billion of marketable securities.\", \n",
    "    \"Meta invested in advancing artificial intelligence (AI) and the metaverse, as mentioned by CEO Mark Zuckerberg. Additionally, Meta focused on immersive experiences like augmented and virtual reality to build the next evolution in social technology. Also, Meta made significant progress in developing technologies for community growth and engagement, along with enhancing user experience over short-term financial results.\",\n",
    "    \"In Q4 2023, the Family of Apps reported income from operations of $21,030 million, showing a significant increase from the previous year. On the other hand, Reality Labs had an operating loss of $4,646 million in the same quarter, indicating a decrease as compared to loss of $4.279 million in previous year.\",\n",
    "    \"Meta generated $11.50 billion in free cash flow for the fourth quarter of 2023 and $43.01 billion for the full year 2023.\",\n",
    "    \"Yes, Meta made changes to its stock repurchase program by announcing a $50 billion increase in its share repurchase authorization. Additionally, Meta initiated a quarterly cash dividend of $0.50 per share of outstanding common stock, payable on March 26, 2024. These changes were announced for fourth quarter and full year 2023 as part of Meta's financial results.\",\n",
    "    \"Meta highlighted risks for 2024 including macroeconomic conditions,  retention or increase of users and engagement levels, reliance on advertising revenue, privacy and security concerns, competition, government actions impacting access to products, and regulatory developments. They also mentioned risks associated with acquisitions, security breaches, and managing geographically-dispersed operations. Additionally, they noted potential risks related to changes in market conditions affecting dividend payments.\",\n",
    "    \"Meta's revenue growth in Q4 2023 was primarily driven by a 24% increase in advertising revenue, reaching $38.7 billion. Additionally, the company reported growth in other revenue streams such as Reality Labs, which contributed to the overall revenue growth. The company's focus on expanding its user base and engagement levels also played a role in driving revenue growth in Q4 2023 to $40.11 billion which is a 25% change as compared to 2022.\",\n",
    "    \"Reality Labs had a loss in income from operations of $16,120 million for the full year 2023. Meta plans to advance its efforts in AI and Reality Labs in 2024, aiming to build on the progress made in immersive experiences like augmented and virtual reality.\"\n",
    "]\n",
    "\n",
    "pprint(rouge(answers_list, original_answers))"
   ]
  },
  {
   "cell_type": "markdown",
   "id": "b4769e0a-94a0-458b-ae74-a2a7aac5358f",
   "metadata": {},
   "source": [
    "**Converting to Dataframe for easy display**"
   ]
  },
  {
   "cell_type": "code",
   "execution_count": 24,
   "id": "50fd94e3-b496-4848-893e-1b0551f8cfa9",
   "metadata": {},
   "outputs": [],
   "source": [
    "import pandas as pd\n",
    "data = {\n",
    "    \"Question\": questions,\n",
    "    \"Answer\": answers_list,\n",
    "    \"Original Answer\": original_answers\n",
    "}\n",
    "\n",
    "df = pd.DataFrame(data)"
   ]
  },
  {
   "cell_type": "code",
   "execution_count": 25,
   "id": "e151baa8-a209-44c0-9045-cf9c45e88bdf",
   "metadata": {},
   "outputs": [
    {
     "data": {
      "text/html": [
       "<div>\n",
       "<style scoped>\n",
       "    .dataframe tbody tr th:only-of-type {\n",
       "        vertical-align: middle;\n",
       "    }\n",
       "\n",
       "    .dataframe tbody tr th {\n",
       "        vertical-align: top;\n",
       "    }\n",
       "\n",
       "    .dataframe thead th {\n",
       "        text-align: right;\n",
       "    }\n",
       "</style>\n",
       "<table border=\"1\" class=\"dataframe\">\n",
       "  <thead>\n",
       "    <tr style=\"text-align: right;\">\n",
       "      <th></th>\n",
       "      <th>Question</th>\n",
       "      <th>Answer</th>\n",
       "      <th>Original Answer</th>\n",
       "    </tr>\n",
       "  </thead>\n",
       "  <tbody>\n",
       "    <tr>\n",
       "      <th>0</th>\n",
       "      <td>1. How did Meta’s workforce change by the end ...</td>\n",
       "      <td>Meta's headcount was 67,317 as of December 31,...</td>\n",
       "      <td>Meta's headcount was 67,317 as of December 31,...</td>\n",
       "    </tr>\n",
       "    <tr>\n",
       "      <th>1</th>\n",
       "      <td>2. What is the report quarter, and when did it...</td>\n",
       "      <td>The report is for the fourth quarter of 2023, ...</td>\n",
       "      <td>The reported quarter is the fourth quarter of ...</td>\n",
       "    </tr>\n",
       "    <tr>\n",
       "      <th>2</th>\n",
       "      <td>3. What were the key financial highlights this...</td>\n",
       "      <td>The key financial highlights for this quarter ...</td>\n",
       "      <td>The key financial highlights this quarter were...</td>\n",
       "    </tr>\n",
       "    <tr>\n",
       "      <th>3</th>\n",
       "      <td>4. How much did Meta spend on restructuring fo...</td>\n",
       "      <td>Meta spent $3.45 billion on restructuring for ...</td>\n",
       "      <td>Meta spent a total of $3.45 billion on restruc...</td>\n",
       "    </tr>\n",
       "    <tr>\n",
       "      <th>4</th>\n",
       "      <td>5. What happened with Meta’s ad impressions an...</td>\n",
       "      <td>In the fourth quarter of 2023, ad impressions ...</td>\n",
       "      <td>In the fourth quarter of 2023, ad impressions ...</td>\n",
       "    </tr>\n",
       "    <tr>\n",
       "      <th>5</th>\n",
       "      <td>6. What’s the revenue outlook for Q1 2024?</td>\n",
       "      <td>The revenue outlook for Q1 2024 is expected to...</td>\n",
       "      <td>The revenue outlook for Q1 2024 is expected to...</td>\n",
       "    </tr>\n",
       "    <tr>\n",
       "      <th>6</th>\n",
       "      <td>7. What were Meta’s total costs and expenses f...</td>\n",
       "      <td>Meta's total costs and expenses were $23.73 bi...</td>\n",
       "      <td>Meta's total costs and expenses were $23.73 bi...</td>\n",
       "    </tr>\n",
       "    <tr>\n",
       "      <th>7</th>\n",
       "      <td>8. How much cash and marketable securities did...</td>\n",
       "      <td>As of December 31, 2023, Meta Platforms, Inc. ...</td>\n",
       "      <td>As of December 31, 2023, Meta Platforms, Inc. ...</td>\n",
       "    </tr>\n",
       "    <tr>\n",
       "      <th>8</th>\n",
       "      <td>9. What were the main areas Meta invested in d...</td>\n",
       "      <td>Meta invested in advancing AI and the metavers...</td>\n",
       "      <td>Meta invested in advancing artificial intellig...</td>\n",
       "    </tr>\n",
       "    <tr>\n",
       "      <th>9</th>\n",
       "      <td>10.How did the Family of Apps and Reality Labs...</td>\n",
       "      <td>In Q4 2023, the Family of Apps reported income...</td>\n",
       "      <td>In Q4 2023, the Family of Apps reported income...</td>\n",
       "    </tr>\n",
       "    <tr>\n",
       "      <th>10</th>\n",
       "      <td>11.How much free cash flow did Meta generate i...</td>\n",
       "      <td>Meta generated $11.50 billion in free cash flo...</td>\n",
       "      <td>Meta generated $11.50 billion in free cash flo...</td>\n",
       "    </tr>\n",
       "    <tr>\n",
       "      <th>11</th>\n",
       "      <td>12.Did Meta make any changes to its stock repu...</td>\n",
       "      <td>Yes, Meta announced a $50 billion increase in ...</td>\n",
       "      <td>Yes, Meta made changes to its stock repurchase...</td>\n",
       "    </tr>\n",
       "    <tr>\n",
       "      <th>12</th>\n",
       "      <td>13.What risks did Meta highlight for 2024?</td>\n",
       "      <td>Meta highlighted several risks for 2024, inclu...</td>\n",
       "      <td>Meta highlighted risks for 2024 including macr...</td>\n",
       "    </tr>\n",
       "    <tr>\n",
       "      <th>13</th>\n",
       "      <td>14.What drove Meta’s revenue growth in Q4 2023?</td>\n",
       "      <td>Meta's revenue growth in Q4 2023 was primarily...</td>\n",
       "      <td>Meta's revenue growth in Q4 2023 was primarily...</td>\n",
       "    </tr>\n",
       "    <tr>\n",
       "      <th>14</th>\n",
       "      <td>15.How did Reality Labs perform throughout 202...</td>\n",
       "      <td>Reality Labs had a loss in 2023, with a decrea...</td>\n",
       "      <td>Reality Labs had a loss in income from operati...</td>\n",
       "    </tr>\n",
       "  </tbody>\n",
       "</table>\n",
       "</div>"
      ],
      "text/plain": [
       "                                             Question  \\\n",
       "0   1. How did Meta’s workforce change by the end ...   \n",
       "1   2. What is the report quarter, and when did it...   \n",
       "2   3. What were the key financial highlights this...   \n",
       "3   4. How much did Meta spend on restructuring fo...   \n",
       "4   5. What happened with Meta’s ad impressions an...   \n",
       "5          6. What’s the revenue outlook for Q1 2024?   \n",
       "6   7. What were Meta’s total costs and expenses f...   \n",
       "7   8. How much cash and marketable securities did...   \n",
       "8   9. What were the main areas Meta invested in d...   \n",
       "9   10.How did the Family of Apps and Reality Labs...   \n",
       "10  11.How much free cash flow did Meta generate i...   \n",
       "11  12.Did Meta make any changes to its stock repu...   \n",
       "12         13.What risks did Meta highlight for 2024?   \n",
       "13    14.What drove Meta’s revenue growth in Q4 2023?   \n",
       "14  15.How did Reality Labs perform throughout 202...   \n",
       "\n",
       "                                               Answer  \\\n",
       "0   Meta's headcount was 67,317 as of December 31,...   \n",
       "1   The report is for the fourth quarter of 2023, ...   \n",
       "2   The key financial highlights for this quarter ...   \n",
       "3   Meta spent $3.45 billion on restructuring for ...   \n",
       "4   In the fourth quarter of 2023, ad impressions ...   \n",
       "5   The revenue outlook for Q1 2024 is expected to...   \n",
       "6   Meta's total costs and expenses were $23.73 bi...   \n",
       "7   As of December 31, 2023, Meta Platforms, Inc. ...   \n",
       "8   Meta invested in advancing AI and the metavers...   \n",
       "9   In Q4 2023, the Family of Apps reported income...   \n",
       "10  Meta generated $11.50 billion in free cash flo...   \n",
       "11  Yes, Meta announced a $50 billion increase in ...   \n",
       "12  Meta highlighted several risks for 2024, inclu...   \n",
       "13  Meta's revenue growth in Q4 2023 was primarily...   \n",
       "14  Reality Labs had a loss in 2023, with a decrea...   \n",
       "\n",
       "                                      Original Answer  \n",
       "0   Meta's headcount was 67,317 as of December 31,...  \n",
       "1   The reported quarter is the fourth quarter of ...  \n",
       "2   The key financial highlights this quarter were...  \n",
       "3   Meta spent a total of $3.45 billion on restruc...  \n",
       "4   In the fourth quarter of 2023, ad impressions ...  \n",
       "5   The revenue outlook for Q1 2024 is expected to...  \n",
       "6   Meta's total costs and expenses were $23.73 bi...  \n",
       "7   As of December 31, 2023, Meta Platforms, Inc. ...  \n",
       "8   Meta invested in advancing artificial intellig...  \n",
       "9   In Q4 2023, the Family of Apps reported income...  \n",
       "10  Meta generated $11.50 billion in free cash flo...  \n",
       "11  Yes, Meta made changes to its stock repurchase...  \n",
       "12  Meta highlighted risks for 2024 including macr...  \n",
       "13  Meta's revenue growth in Q4 2023 was primarily...  \n",
       "14  Reality Labs had a loss in income from operati...  "
      ]
     },
     "metadata": {},
     "output_type": "display_data"
    }
   ],
   "source": [
    "display(df)"
   ]
  },
  {
   "cell_type": "code",
   "execution_count": 26,
   "id": "ab1291de-f491-48a3-891c-b5c281c292a2",
   "metadata": {},
   "outputs": [],
   "source": [
    "def calculate_rouge_scores(answer, original_answer):\n",
    "    scores = scorer.score(original_answer, answer)\n",
    "    return scores['rouge1'].fmeasure, scores['rouge2'].fmeasure, scores['rougeL'].fmeasure, scores['rougeLsum'].fmeasure"
   ]
  },
  {
   "cell_type": "code",
   "execution_count": 27,
   "id": "f3b093d9-7094-42dc-9e86-2d31fbeecb67",
   "metadata": {},
   "outputs": [],
   "source": [
    "df[['ROUGE-1', 'ROUGE-2', 'ROUGE-L','ROGUE-LSUM']] = df.apply(\n",
    "    lambda row: pd.Series(calculate_rouge_scores(row['Answer'], row['Original Answer'])),\n",
    "    axis=1\n",
    ")"
   ]
  },
  {
   "cell_type": "markdown",
   "id": "49851424-c8cf-4070-96c0-f6674b2e6a75",
   "metadata": {},
   "source": [
    "**Final DF with ROGUE scores for each question**"
   ]
  },
  {
   "cell_type": "code",
   "execution_count": 28,
   "id": "dc02eb77-f3fe-44c1-a747-148064f70384",
   "metadata": {},
   "outputs": [
    {
     "data": {
      "text/html": [
       "<div>\n",
       "<style scoped>\n",
       "    .dataframe tbody tr th:only-of-type {\n",
       "        vertical-align: middle;\n",
       "    }\n",
       "\n",
       "    .dataframe tbody tr th {\n",
       "        vertical-align: top;\n",
       "    }\n",
       "\n",
       "    .dataframe thead th {\n",
       "        text-align: right;\n",
       "    }\n",
       "</style>\n",
       "<table border=\"1\" class=\"dataframe\">\n",
       "  <thead>\n",
       "    <tr style=\"text-align: right;\">\n",
       "      <th></th>\n",
       "      <th>Question</th>\n",
       "      <th>Answer</th>\n",
       "      <th>Original Answer</th>\n",
       "      <th>ROUGE-1</th>\n",
       "      <th>ROUGE-2</th>\n",
       "      <th>ROUGE-L</th>\n",
       "      <th>ROGUE-LSUM</th>\n",
       "    </tr>\n",
       "  </thead>\n",
       "  <tbody>\n",
       "    <tr>\n",
       "      <th>0</th>\n",
       "      <td>1. How did Meta’s workforce change by the end ...</td>\n",
       "      <td>Meta's headcount was 67,317 as of December 31,...</td>\n",
       "      <td>Meta's headcount was 67,317 as of December 31,...</td>\n",
       "      <td>1.000000</td>\n",
       "      <td>1.000000</td>\n",
       "      <td>1.000000</td>\n",
       "      <td>1.000000</td>\n",
       "    </tr>\n",
       "    <tr>\n",
       "      <th>1</th>\n",
       "      <td>2. What is the report quarter, and when did it...</td>\n",
       "      <td>The report is for the fourth quarter of 2023, ...</td>\n",
       "      <td>The reported quarter is the fourth quarter of ...</td>\n",
       "      <td>0.866667</td>\n",
       "      <td>0.642857</td>\n",
       "      <td>0.866667</td>\n",
       "      <td>0.866667</td>\n",
       "    </tr>\n",
       "    <tr>\n",
       "      <th>2</th>\n",
       "      <td>3. What were the key financial highlights this...</td>\n",
       "      <td>The key financial highlights for this quarter ...</td>\n",
       "      <td>The key financial highlights this quarter were...</td>\n",
       "      <td>0.829268</td>\n",
       "      <td>0.725000</td>\n",
       "      <td>0.707317</td>\n",
       "      <td>0.707317</td>\n",
       "    </tr>\n",
       "    <tr>\n",
       "      <th>3</th>\n",
       "      <td>4. How much did Meta spend on restructuring fo...</td>\n",
       "      <td>Meta spent $3.45 billion on restructuring for ...</td>\n",
       "      <td>Meta spent a total of $3.45 billion on restruc...</td>\n",
       "      <td>0.936170</td>\n",
       "      <td>0.888889</td>\n",
       "      <td>0.936170</td>\n",
       "      <td>0.936170</td>\n",
       "    </tr>\n",
       "    <tr>\n",
       "      <th>4</th>\n",
       "      <td>5. What happened with Meta’s ad impressions an...</td>\n",
       "      <td>In the fourth quarter of 2023, ad impressions ...</td>\n",
       "      <td>In the fourth quarter of 2023, ad impressions ...</td>\n",
       "      <td>0.980392</td>\n",
       "      <td>0.960000</td>\n",
       "      <td>0.980392</td>\n",
       "      <td>0.980392</td>\n",
       "    </tr>\n",
       "    <tr>\n",
       "      <th>5</th>\n",
       "      <td>6. What’s the revenue outlook for Q1 2024?</td>\n",
       "      <td>The revenue outlook for Q1 2024 is expected to...</td>\n",
       "      <td>The revenue outlook for Q1 2024 is expected to...</td>\n",
       "      <td>0.808989</td>\n",
       "      <td>0.666667</td>\n",
       "      <td>0.719101</td>\n",
       "      <td>0.719101</td>\n",
       "    </tr>\n",
       "    <tr>\n",
       "      <th>6</th>\n",
       "      <td>7. What were Meta’s total costs and expenses f...</td>\n",
       "      <td>Meta's total costs and expenses were $23.73 bi...</td>\n",
       "      <td>Meta's total costs and expenses were $23.73 bi...</td>\n",
       "      <td>0.888889</td>\n",
       "      <td>0.837209</td>\n",
       "      <td>0.888889</td>\n",
       "      <td>0.888889</td>\n",
       "    </tr>\n",
       "    <tr>\n",
       "      <th>7</th>\n",
       "      <td>8. How much cash and marketable securities did...</td>\n",
       "      <td>As of December 31, 2023, Meta Platforms, Inc. ...</td>\n",
       "      <td>As of December 31, 2023, Meta Platforms, Inc. ...</td>\n",
       "      <td>0.831169</td>\n",
       "      <td>0.666667</td>\n",
       "      <td>0.701299</td>\n",
       "      <td>0.701299</td>\n",
       "    </tr>\n",
       "    <tr>\n",
       "      <th>8</th>\n",
       "      <td>9. What were the main areas Meta invested in d...</td>\n",
       "      <td>Meta invested in advancing AI and the metavers...</td>\n",
       "      <td>Meta invested in advancing artificial intellig...</td>\n",
       "      <td>0.596774</td>\n",
       "      <td>0.459016</td>\n",
       "      <td>0.516129</td>\n",
       "      <td>0.516129</td>\n",
       "    </tr>\n",
       "    <tr>\n",
       "      <th>9</th>\n",
       "      <td>10.How did the Family of Apps and Reality Labs...</td>\n",
       "      <td>In Q4 2023, the Family of Apps reported income...</td>\n",
       "      <td>In Q4 2023, the Family of Apps reported income...</td>\n",
       "      <td>0.666667</td>\n",
       "      <td>0.513761</td>\n",
       "      <td>0.630631</td>\n",
       "      <td>0.630631</td>\n",
       "    </tr>\n",
       "    <tr>\n",
       "      <th>10</th>\n",
       "      <td>11.How much free cash flow did Meta generate i...</td>\n",
       "      <td>Meta generated $11.50 billion in free cash flo...</td>\n",
       "      <td>Meta generated $11.50 billion in free cash flo...</td>\n",
       "      <td>1.000000</td>\n",
       "      <td>1.000000</td>\n",
       "      <td>1.000000</td>\n",
       "      <td>1.000000</td>\n",
       "    </tr>\n",
       "    <tr>\n",
       "      <th>11</th>\n",
       "      <td>12.Did Meta make any changes to its stock repu...</td>\n",
       "      <td>Yes, Meta announced a $50 billion increase in ...</td>\n",
       "      <td>Yes, Meta made changes to its stock repurchase...</td>\n",
       "      <td>0.659091</td>\n",
       "      <td>0.534884</td>\n",
       "      <td>0.613636</td>\n",
       "      <td>0.613636</td>\n",
       "    </tr>\n",
       "    <tr>\n",
       "      <th>12</th>\n",
       "      <td>13.What risks did Meta highlight for 2024?</td>\n",
       "      <td>Meta highlighted several risks for 2024, inclu...</td>\n",
       "      <td>Meta highlighted risks for 2024 including macr...</td>\n",
       "      <td>0.645161</td>\n",
       "      <td>0.377049</td>\n",
       "      <td>0.467742</td>\n",
       "      <td>0.467742</td>\n",
       "    </tr>\n",
       "    <tr>\n",
       "      <th>13</th>\n",
       "      <td>14.What drove Meta’s revenue growth in Q4 2023?</td>\n",
       "      <td>Meta's revenue growth in Q4 2023 was primarily...</td>\n",
       "      <td>Meta's revenue growth in Q4 2023 was primarily...</td>\n",
       "      <td>0.595420</td>\n",
       "      <td>0.449612</td>\n",
       "      <td>0.519084</td>\n",
       "      <td>0.519084</td>\n",
       "    </tr>\n",
       "    <tr>\n",
       "      <th>14</th>\n",
       "      <td>15.How did Reality Labs perform throughout 202...</td>\n",
       "      <td>Reality Labs had a loss in 2023, with a decrea...</td>\n",
       "      <td>Reality Labs had a loss in income from operati...</td>\n",
       "      <td>0.682353</td>\n",
       "      <td>0.554217</td>\n",
       "      <td>0.658824</td>\n",
       "      <td>0.658824</td>\n",
       "    </tr>\n",
       "  </tbody>\n",
       "</table>\n",
       "</div>"
      ],
      "text/plain": [
       "                                             Question  \\\n",
       "0   1. How did Meta’s workforce change by the end ...   \n",
       "1   2. What is the report quarter, and when did it...   \n",
       "2   3. What were the key financial highlights this...   \n",
       "3   4. How much did Meta spend on restructuring fo...   \n",
       "4   5. What happened with Meta’s ad impressions an...   \n",
       "5          6. What’s the revenue outlook for Q1 2024?   \n",
       "6   7. What were Meta’s total costs and expenses f...   \n",
       "7   8. How much cash and marketable securities did...   \n",
       "8   9. What were the main areas Meta invested in d...   \n",
       "9   10.How did the Family of Apps and Reality Labs...   \n",
       "10  11.How much free cash flow did Meta generate i...   \n",
       "11  12.Did Meta make any changes to its stock repu...   \n",
       "12         13.What risks did Meta highlight for 2024?   \n",
       "13    14.What drove Meta’s revenue growth in Q4 2023?   \n",
       "14  15.How did Reality Labs perform throughout 202...   \n",
       "\n",
       "                                               Answer  \\\n",
       "0   Meta's headcount was 67,317 as of December 31,...   \n",
       "1   The report is for the fourth quarter of 2023, ...   \n",
       "2   The key financial highlights for this quarter ...   \n",
       "3   Meta spent $3.45 billion on restructuring for ...   \n",
       "4   In the fourth quarter of 2023, ad impressions ...   \n",
       "5   The revenue outlook for Q1 2024 is expected to...   \n",
       "6   Meta's total costs and expenses were $23.73 bi...   \n",
       "7   As of December 31, 2023, Meta Platforms, Inc. ...   \n",
       "8   Meta invested in advancing AI and the metavers...   \n",
       "9   In Q4 2023, the Family of Apps reported income...   \n",
       "10  Meta generated $11.50 billion in free cash flo...   \n",
       "11  Yes, Meta announced a $50 billion increase in ...   \n",
       "12  Meta highlighted several risks for 2024, inclu...   \n",
       "13  Meta's revenue growth in Q4 2023 was primarily...   \n",
       "14  Reality Labs had a loss in 2023, with a decrea...   \n",
       "\n",
       "                                      Original Answer   ROUGE-1   ROUGE-2  \\\n",
       "0   Meta's headcount was 67,317 as of December 31,...  1.000000  1.000000   \n",
       "1   The reported quarter is the fourth quarter of ...  0.866667  0.642857   \n",
       "2   The key financial highlights this quarter were...  0.829268  0.725000   \n",
       "3   Meta spent a total of $3.45 billion on restruc...  0.936170  0.888889   \n",
       "4   In the fourth quarter of 2023, ad impressions ...  0.980392  0.960000   \n",
       "5   The revenue outlook for Q1 2024 is expected to...  0.808989  0.666667   \n",
       "6   Meta's total costs and expenses were $23.73 bi...  0.888889  0.837209   \n",
       "7   As of December 31, 2023, Meta Platforms, Inc. ...  0.831169  0.666667   \n",
       "8   Meta invested in advancing artificial intellig...  0.596774  0.459016   \n",
       "9   In Q4 2023, the Family of Apps reported income...  0.666667  0.513761   \n",
       "10  Meta generated $11.50 billion in free cash flo...  1.000000  1.000000   \n",
       "11  Yes, Meta made changes to its stock repurchase...  0.659091  0.534884   \n",
       "12  Meta highlighted risks for 2024 including macr...  0.645161  0.377049   \n",
       "13  Meta's revenue growth in Q4 2023 was primarily...  0.595420  0.449612   \n",
       "14  Reality Labs had a loss in income from operati...  0.682353  0.554217   \n",
       "\n",
       "     ROUGE-L  ROGUE-LSUM  \n",
       "0   1.000000    1.000000  \n",
       "1   0.866667    0.866667  \n",
       "2   0.707317    0.707317  \n",
       "3   0.936170    0.936170  \n",
       "4   0.980392    0.980392  \n",
       "5   0.719101    0.719101  \n",
       "6   0.888889    0.888889  \n",
       "7   0.701299    0.701299  \n",
       "8   0.516129    0.516129  \n",
       "9   0.630631    0.630631  \n",
       "10  1.000000    1.000000  \n",
       "11  0.613636    0.613636  \n",
       "12  0.467742    0.467742  \n",
       "13  0.519084    0.519084  \n",
       "14  0.658824    0.658824  "
      ]
     },
     "metadata": {},
     "output_type": "display_data"
    }
   ],
   "source": [
    "display(df)"
   ]
  },
  {
   "cell_type": "code",
   "execution_count": 29,
   "id": "b47617de-d9e5-4e3b-ba25-e80e0df0357a",
   "metadata": {
    "tags": []
   },
   "outputs": [],
   "source": [
    "df.to_csv('answers.csv')"
   ]
  },
  {
   "cell_type": "markdown",
   "id": "eadfb9e3-2df3-436c-9d55-57eee6d8fba9",
   "metadata": {},
   "source": [
    "**Perform Fine Tuning using JSONL File for OpenAI**"
   ]
  },
  {
   "cell_type": "code",
   "execution_count": 30,
   "id": "1fef4022-c393-46c3-a7e8-25836630e7df",
   "metadata": {
    "tags": []
   },
   "outputs": [],
   "source": [
    "from openai import OpenAI\n",
    "\n",
    "client = OpenAI(api_key=openai_api_key)\n",
    "\n",
    "with open(\"finetune.jsonl\", \"rb\") as file:\n",
    "    response = client.files.create(\n",
    "        file=file, \n",
    "        purpose=\"fine-tune\"\n",
    "    )\n",
    "\n",
    "file_id = response.id\n",
    "\n",
    "fine_tuning_job = client.fine_tuning.jobs.create(\n",
    "    training_file=file_id, \n",
    "    model=\"gpt-3.5-turbo\"\n",
    ")\n",
    "\n",
    "job = client.fine_tuning.jobs.retrieve(fine_tuning_job.id)\n",
    "\n",
    "jobs = client.fine_tuning.jobs.list(limit=10)"
   ]
  },
  {
   "cell_type": "code",
   "execution_count": 31,
   "id": "59dfc030-a92b-420e-97c3-1286d8130eb8",
   "metadata": {
    "tags": []
   },
   "outputs": [
    {
     "name": "stdout",
     "output_type": "stream",
     "text": [
      "FineTuningJob(id='ftjob-ycMiaQcOQ1nErPnmy6QcPlKG', created_at=1733365730, error=Error(code=None, message=None, param=None), fine_tuned_model=None, finished_at=None, hyperparameters=Hyperparameters(n_epochs='auto', batch_size='auto', learning_rate_multiplier='auto'), model='gpt-3.5-turbo-0125', object='fine_tuning.job', organization_id='org-J3RIeFeEZeBQp4CQG4Dk2xow', result_files=[], seed=808157084, status='validating_files', trained_tokens=None, training_file='file-JVLC6cKFrosEcNNT2rpB5Z', validation_file=None, estimated_finish=None, integrations=[], user_provided_suffix=None)\n"
     ]
    }
   ],
   "source": [
    "print(job)"
   ]
  },
  {
   "cell_type": "code",
   "execution_count": 32,
   "id": "7285e060-2033-46e2-8e9a-a8fddcfa979b",
   "metadata": {
    "tags": []
   },
   "outputs": [],
   "source": [
    "job = client.fine_tuning.jobs.retrieve(fine_tuning_job.id)"
   ]
  },
  {
   "cell_type": "code",
   "execution_count": 33,
   "id": "8b080b91-1391-4ad9-a4fb-06e162a8f56d",
   "metadata": {
    "tags": []
   },
   "outputs": [
    {
     "name": "stdout",
     "output_type": "stream",
     "text": [
      "FineTuningJob(id='ftjob-ycMiaQcOQ1nErPnmy6QcPlKG', created_at=1733365730, error=Error(code=None, message=None, param=None), fine_tuned_model=None, finished_at=None, hyperparameters=Hyperparameters(n_epochs=3, batch_size=1, learning_rate_multiplier=2), model='gpt-3.5-turbo-0125', object='fine_tuning.job', organization_id='org-J3RIeFeEZeBQp4CQG4Dk2xow', result_files=[], seed=808157084, status='validating_files', trained_tokens=None, training_file='file-JVLC6cKFrosEcNNT2rpB5Z', validation_file=None, estimated_finish=None, integrations=[], user_provided_suffix=None)\n"
     ]
    }
   ],
   "source": [
    "print(job)"
   ]
  },
  {
   "attachments": {
    "e4c1b527-041f-435e-a858-efbb1fa224a0.png": {
     "image/png": "[encoded data removed]"
    }
   },
   "cell_type": "markdown",
   "id": "0ff32daa-42ed-4e9b-a0c5-a1622ea4aa6b",
   "metadata": {},
   "source": [
    "![image.png](attachment:e4c1b527-041f-435e-a858-efbb1fa224a0.png)"
   ]
  },
  {
   "cell_type": "markdown",
   "id": "6230c47b-85a9-44b6-b0f5-e29900f21e94",
   "metadata": {},
   "source": [
    "**Create new RAG Chain with Tuned Model**"
   ]
  },
  {
   "cell_type": "code",
   "execution_count": 34,
   "id": "65dbd2c3-ba85-4883-a20a-2af94f501877",
   "metadata": {
    "tags": []
   },
   "outputs": [],
   "source": [
    "llm_tuned = ChatOpenAI(model_name=\"ft:gpt-3.5-turbo-0125:personal::AavzugSw\", temperature=0)"
   ]
  },
  {
   "cell_type": "code",
   "execution_count": 35,
   "id": "47c5bc98-b46b-4dcb-b1d0-a7a73b2a8e45",
   "metadata": {
    "tags": []
   },
   "outputs": [],
   "source": [
    "rag_chain = RetrievalQA.from_chain_type(\n",
    "    llm=llm_tuned,\n",
    "    retriever=retriever,\n",
    "    return_source_documents=True,\n",
    "    chain_type_kwargs={\n",
    "        \"prompt\": PromptTemplate(\n",
    "            template=\"\"\"\n",
    "            You are a helpful assistant for answering complex questions.\n",
    "            Please answer the following question based on Context provided. \n",
    "            Use three sentences maximum and keep it concise.  \n",
    "            Do not give bullet points in answers, it should be a single paragraph.\n",
    "            If you don't know the answer, just say that you don't know.\n",
    "            \n",
    "            Context: {context} \\n\n",
    "\n",
    "            Question: {question} \\n\n",
    "\n",
    "            Answer:\n",
    "            \"\"\",\n",
    "            input_variables=[\"context\", \"question\"],\n",
    "        )\n",
    "    },\n",
    ")"
   ]
  },
  {
   "cell_type": "code",
   "execution_count": 36,
   "id": "71127743-b47a-4db6-b61b-10bebe207448",
   "metadata": {
    "tags": []
   },
   "outputs": [],
   "source": [
    "def get_response(question):\n",
    "    response = rag_chain.invoke({\"query\": question})\n",
    "    answer = response[\"result\"]\n",
    "    return answer"
   ]
  },
  {
   "cell_type": "code",
   "execution_count": 37,
   "id": "44b84ed7-b205-4378-ab4d-77f1815a3da8",
   "metadata": {
    "tags": []
   },
   "outputs": [
    {
     "name": "stdout",
     "output_type": "stream",
     "text": [
      "Question: 1. How did Meta’s workforce change by the end of 2023?\n",
      "Answer: Meta's headcount was 67,317 as of December 31, 2023, which was a decrease of 22% year-over-year.\n",
      "-------------------------\n",
      "Question: 2. What is the report quarter, and when did it end?\n",
      "Answer: The reported quarter is the fourth quarter of 2023, and it ended on December 31, 2023.\n",
      "-------------------------\n",
      "Question: 3. What were the key financial highlights this quarter(revenue, gross margin, operating expenses, operating margin, net income, and EPS. )?\n",
      "Answer: Meta reported revenue of $40.11 billion, a 25% increase year-over-year, with net income of $14.02 billion, a 201% increase year-over-year. Operating expenses were $23.73 billion, an 8% decrease year-over-year, resulting in an operating margin of 41%. Diluted EPS was $5.33, a 203% increase year-over-year.\n",
      "-------------------------\n",
      "Question: 4. How much did Meta spend on restructuring for the whole year and Q4?\n",
      "Answer: Meta spent $3.45 billion on restructuring for the full year 2023 and $1.15 billion for the fourth quarter of 2023.\n",
      "-------------------------\n",
      "Question: 5. What happened with Meta’s ad impressions and average price per ad in Q4 and for the whole year?\n",
      "Answer: In the fourth quarter of 2023, ad impressions increased by 21% year-over-year, and the average price per ad increased by 2% year-over-year. For the full year 2023, ad impressions increased by 28% year-over-year, but the average price per ad decreased by 9% year-over-year.\n",
      "-------------------------\n",
      "Question: 6. What’s the revenue outlook for Q1 2024?\n",
      "Answer: Facebook expects first-quarter 2024 total revenue to be in the range of $34.5-37 billion. The guidance assumes foreign currency is neutral to year-over-year total revenue growth, based on current exchange rates.\n",
      "-------------------------\n",
      "Question: 7. What were Meta’s total costs and expenses for Q4 and the full year 2023?\n",
      "Answer: Total costs and expenses were $23.73 billion for Q4 and $88.15 billion for the full year 2023.\n",
      "-------------------------\n",
      "Question: 8. How much cash and marketable securities did Meta have on hand as of December 31, 2023?\n",
      "Answer: Meta had $65.40 billion in cash, cash equivalents, and marketable securities as of December 31, 2023.\n",
      "-------------------------\n",
      "Question: 9. What were the main areas Meta invested in during 2023?\n",
      "Answer: Meta invested in advancing AI and the metaverse, focusing on immersive experiences like augmented and virtual reality to build the next evolution in social technology.\n",
      "-------------------------\n",
      "Question: 10.How did the Family of Apps and Reality Labs perform in Q4 2023?\n",
      "Answer: The Family of Apps reported $21.03 billion in income from operations, while Reality Labs had an operating loss of $4.646 billion.\n",
      "-------------------------\n",
      "Question: 11.How much free cash flow did Meta generate in Q4 and the full year 2023?\n",
      "Answer: Meta generated $11.50 billion in free cash flow for the fourth quarter and $43.01 billion for the full year 2023.\n",
      "-------------------------\n",
      "Question: 12.Did Meta make any changes to its stock repurchase program or dividends for 2024?\n",
      "Answer: Yes, Meta announced a $50 billion increase in its share repurchase authorization and initiated a quarterly cash dividend of $0.50 per share of outstanding common stock starting in 2024.\n",
      "-------------------------\n",
      "Question: 13.What risks did Meta highlight for 2024?\n",
      "Answer: Meta highlighted risks for 2024 including macroeconomic conditions, user retention, advertising revenue, data signals, mobile operating systems, changes to third-party policies, new products, metaverse efforts, community growth, privacy, safety, security, content review, competition, government actions, litigation, privacy concerns, acquisitions, security breaches, managing scale, and market conditions affecting dividend payments.\n",
      "-------------------------\n",
      "Question: 14.What drove Meta’s revenue growth in Q4 2023?\n",
      "Answer: The revenue growth in Q4 2023 was driven by advertising revenue, which was $38.71 billion, an increase of 24% year-over-year. Total revenue was $40.11 billion, a 25% increase year-over-year.\n",
      "-------------------------\n",
      "Question: 15.How did Reality Labs perform throughout 2023, and what’s Meta’s plan for 2024?\n",
      "Answer: Reality Labs had an operating loss of $4.646 billion in 2023, and $16.120 billion for the full year. Meta plans to build on its progress in 2024 in AI and Reality Labs while advancing its longer-term efforts.\n",
      "-------------------------\n"
     ]
    }
   ],
   "source": [
    "questions = [\n",
    "             \"1. How did Meta’s workforce change by the end of 2023?\",\n",
    "             \"2. What is the report quarter, and when did it end?\",\n",
    "             \"3. What were the key financial highlights this quarter(revenue, gross margin, operating expenses, operating margin, net income, and EPS. )?\",\n",
    "             \"4. How much did Meta spend on restructuring for the whole year and Q4?\",\n",
    "             \"5. What happened with Meta’s ad impressions and average price per ad in Q4 and for the whole year?\",\n",
    "             \"6. What’s the revenue outlook for Q1 2024?\",\n",
    "             \"7. What were Meta’s total costs and expenses for Q4 and the full year 2023?\",\n",
    "             \"8. How much cash and marketable securities did Meta have on hand as of December 31, 2023?\",\n",
    "             \"9. What were the main areas Meta invested in during 2023?\",\n",
    "             \"10.How did the Family of Apps and Reality Labs perform in Q4 2023?\",\n",
    "             \"11.How much free cash flow did Meta generate in Q4 and the full year 2023?\",\n",
    "             \"12.Did Meta make any changes to its stock repurchase program or dividends for 2024?\",\n",
    "             \"13.What risks did Meta highlight for 2024?\",\n",
    "             \"14.What drove Meta’s revenue growth in Q4 2023?\",\n",
    "             \"15.How did Reality Labs perform throughout 2023, and what’s Meta’s plan for 2024?\"\n",
    "            ]\n",
    "answers_list=[]\n",
    "for question in questions:\n",
    "    answer = get_response(question)\n",
    "    answers_list.append(answer)\n",
    "    print(\"Question:\", question)\n",
    "    print(\"Answer:\", answer)\n",
    "    print(\"-------------------------\")"
   ]
  },
  {
   "cell_type": "code",
   "execution_count": 38,
   "id": "fb6f6f19-faa8-46a8-a8a8-b895893cd9da",
   "metadata": {
    "tags": []
   },
   "outputs": [],
   "source": [
    "data = {\n",
    "    \"Question\": questions,\n",
    "    \"Answer\": answers_list,\n",
    "    \"Original Answer\": original_answers\n",
    "}\n",
    "\n",
    "# Convert the dictionary to a DataFrame\n",
    "df_tuned = pd.DataFrame(data)"
   ]
  },
  {
   "cell_type": "code",
   "execution_count": 39,
   "id": "3c72b404-99ad-4e59-a4ba-7f5dcb0b0870",
   "metadata": {
    "tags": []
   },
   "outputs": [],
   "source": [
    "df_tuned[['ROUGE-1', 'ROUGE-2', 'ROUGE-L','ROGUE-LSUM']] = df.apply(\n",
    "    lambda row: pd.Series(calculate_rouge_scores(row['Answer'], row['Original Answer'])),\n",
    "    axis=1\n",
    ")"
   ]
  },
  {
   "cell_type": "markdown",
   "id": "a86f0ff7-7269-4edf-8713-c66f27e7a247",
   "metadata": {},
   "source": [
    "**Calculate ROGUE Scores**"
   ]
  },
  {
   "cell_type": "code",
   "execution_count": 41,
   "id": "ff03e95a-ea4e-40d7-9d33-bf8a3b1c0b5c",
   "metadata": {
    "tags": []
   },
   "outputs": [
    {
     "name": "stdout",
     "output_type": "stream",
     "text": [
      "{'rouge1_fmeasure': tensor(0.7231),\n",
      " 'rouge1_precision': tensor(0.8482),\n",
      " 'rouge1_recall': tensor(0.6623),\n",
      " 'rouge2_fmeasure': tensor(0.5953),\n",
      " 'rouge2_precision': tensor(0.6969),\n",
      " 'rouge2_recall': tensor(0.5470),\n",
      " 'rougeL_fmeasure': tensor(0.6682),\n",
      " 'rougeL_precision': tensor(0.7798),\n",
      " 'rougeL_recall': tensor(0.6136),\n",
      " 'rougeLsum_fmeasure': tensor(0.6874),\n",
      " 'rougeLsum_precision': tensor(0.8004),\n",
      " 'rougeLsum_recall': tensor(0.6327)}\n"
     ]
    }
   ],
   "source": [
    "pprint(rouge(answers_list, original_answers))"
   ]
  },
  {
   "cell_type": "code",
   "execution_count": 40,
   "id": "b60c7f80-0c54-4d0a-a420-0c7cc5cec85c",
   "metadata": {
    "tags": []
   },
   "outputs": [
    {
     "data": {
      "text/html": [
       "<div>\n",
       "<style scoped>\n",
       "    .dataframe tbody tr th:only-of-type {\n",
       "        vertical-align: middle;\n",
       "    }\n",
       "\n",
       "    .dataframe tbody tr th {\n",
       "        vertical-align: top;\n",
       "    }\n",
       "\n",
       "    .dataframe thead th {\n",
       "        text-align: right;\n",
       "    }\n",
       "</style>\n",
       "<table border=\"1\" class=\"dataframe\">\n",
       "  <thead>\n",
       "    <tr style=\"text-align: right;\">\n",
       "      <th></th>\n",
       "      <th>Question</th>\n",
       "      <th>Answer</th>\n",
       "      <th>Original Answer</th>\n",
       "      <th>ROUGE-1</th>\n",
       "      <th>ROUGE-2</th>\n",
       "      <th>ROUGE-L</th>\n",
       "      <th>ROGUE-LSUM</th>\n",
       "    </tr>\n",
       "  </thead>\n",
       "  <tbody>\n",
       "    <tr>\n",
       "      <th>0</th>\n",
       "      <td>1. How did Meta’s workforce change by the end ...</td>\n",
       "      <td>Meta's headcount was 67,317 as of December 31,...</td>\n",
       "      <td>Meta's headcount was 67,317 as of December 31,...</td>\n",
       "      <td>1.000000</td>\n",
       "      <td>1.000000</td>\n",
       "      <td>1.000000</td>\n",
       "      <td>1.000000</td>\n",
       "    </tr>\n",
       "    <tr>\n",
       "      <th>1</th>\n",
       "      <td>2. What is the report quarter, and when did it...</td>\n",
       "      <td>The reported quarter is the fourth quarter of ...</td>\n",
       "      <td>The reported quarter is the fourth quarter of ...</td>\n",
       "      <td>0.866667</td>\n",
       "      <td>0.642857</td>\n",
       "      <td>0.866667</td>\n",
       "      <td>0.866667</td>\n",
       "    </tr>\n",
       "    <tr>\n",
       "      <th>2</th>\n",
       "      <td>3. What were the key financial highlights this...</td>\n",
       "      <td>Meta reported revenue of $40.11 billion, a 25%...</td>\n",
       "      <td>The key financial highlights this quarter were...</td>\n",
       "      <td>0.829268</td>\n",
       "      <td>0.725000</td>\n",
       "      <td>0.707317</td>\n",
       "      <td>0.707317</td>\n",
       "    </tr>\n",
       "    <tr>\n",
       "      <th>3</th>\n",
       "      <td>4. How much did Meta spend on restructuring fo...</td>\n",
       "      <td>Meta spent $3.45 billion on restructuring for ...</td>\n",
       "      <td>Meta spent a total of $3.45 billion on restruc...</td>\n",
       "      <td>0.936170</td>\n",
       "      <td>0.888889</td>\n",
       "      <td>0.936170</td>\n",
       "      <td>0.936170</td>\n",
       "    </tr>\n",
       "    <tr>\n",
       "      <th>4</th>\n",
       "      <td>5. What happened with Meta’s ad impressions an...</td>\n",
       "      <td>In the fourth quarter of 2023, ad impressions ...</td>\n",
       "      <td>In the fourth quarter of 2023, ad impressions ...</td>\n",
       "      <td>0.980392</td>\n",
       "      <td>0.960000</td>\n",
       "      <td>0.980392</td>\n",
       "      <td>0.980392</td>\n",
       "    </tr>\n",
       "    <tr>\n",
       "      <th>5</th>\n",
       "      <td>6. What’s the revenue outlook for Q1 2024?</td>\n",
       "      <td>Facebook expects first-quarter 2024 total reve...</td>\n",
       "      <td>The revenue outlook for Q1 2024 is expected to...</td>\n",
       "      <td>0.808989</td>\n",
       "      <td>0.666667</td>\n",
       "      <td>0.719101</td>\n",
       "      <td>0.719101</td>\n",
       "    </tr>\n",
       "    <tr>\n",
       "      <th>6</th>\n",
       "      <td>7. What were Meta’s total costs and expenses f...</td>\n",
       "      <td>Total costs and expenses were $23.73 billion f...</td>\n",
       "      <td>Meta's total costs and expenses were $23.73 bi...</td>\n",
       "      <td>0.888889</td>\n",
       "      <td>0.837209</td>\n",
       "      <td>0.888889</td>\n",
       "      <td>0.888889</td>\n",
       "    </tr>\n",
       "    <tr>\n",
       "      <th>7</th>\n",
       "      <td>8. How much cash and marketable securities did...</td>\n",
       "      <td>Meta had $65.40 billion in cash, cash equivale...</td>\n",
       "      <td>As of December 31, 2023, Meta Platforms, Inc. ...</td>\n",
       "      <td>0.831169</td>\n",
       "      <td>0.666667</td>\n",
       "      <td>0.701299</td>\n",
       "      <td>0.701299</td>\n",
       "    </tr>\n",
       "    <tr>\n",
       "      <th>8</th>\n",
       "      <td>9. What were the main areas Meta invested in d...</td>\n",
       "      <td>Meta invested in advancing AI and the metavers...</td>\n",
       "      <td>Meta invested in advancing artificial intellig...</td>\n",
       "      <td>0.596774</td>\n",
       "      <td>0.459016</td>\n",
       "      <td>0.516129</td>\n",
       "      <td>0.516129</td>\n",
       "    </tr>\n",
       "    <tr>\n",
       "      <th>9</th>\n",
       "      <td>10.How did the Family of Apps and Reality Labs...</td>\n",
       "      <td>The Family of Apps reported $21.03 billion in ...</td>\n",
       "      <td>In Q4 2023, the Family of Apps reported income...</td>\n",
       "      <td>0.666667</td>\n",
       "      <td>0.513761</td>\n",
       "      <td>0.630631</td>\n",
       "      <td>0.630631</td>\n",
       "    </tr>\n",
       "    <tr>\n",
       "      <th>10</th>\n",
       "      <td>11.How much free cash flow did Meta generate i...</td>\n",
       "      <td>Meta generated $11.50 billion in free cash flo...</td>\n",
       "      <td>Meta generated $11.50 billion in free cash flo...</td>\n",
       "      <td>1.000000</td>\n",
       "      <td>1.000000</td>\n",
       "      <td>1.000000</td>\n",
       "      <td>1.000000</td>\n",
       "    </tr>\n",
       "    <tr>\n",
       "      <th>11</th>\n",
       "      <td>12.Did Meta make any changes to its stock repu...</td>\n",
       "      <td>Yes, Meta announced a $50 billion increase in ...</td>\n",
       "      <td>Yes, Meta made changes to its stock repurchase...</td>\n",
       "      <td>0.659091</td>\n",
       "      <td>0.534884</td>\n",
       "      <td>0.613636</td>\n",
       "      <td>0.613636</td>\n",
       "    </tr>\n",
       "    <tr>\n",
       "      <th>12</th>\n",
       "      <td>13.What risks did Meta highlight for 2024?</td>\n",
       "      <td>Meta highlighted risks for 2024 including macr...</td>\n",
       "      <td>Meta highlighted risks for 2024 including macr...</td>\n",
       "      <td>0.645161</td>\n",
       "      <td>0.377049</td>\n",
       "      <td>0.467742</td>\n",
       "      <td>0.467742</td>\n",
       "    </tr>\n",
       "    <tr>\n",
       "      <th>13</th>\n",
       "      <td>14.What drove Meta’s revenue growth in Q4 2023?</td>\n",
       "      <td>The revenue growth in Q4 2023 was driven by ad...</td>\n",
       "      <td>Meta's revenue growth in Q4 2023 was primarily...</td>\n",
       "      <td>0.595420</td>\n",
       "      <td>0.449612</td>\n",
       "      <td>0.519084</td>\n",
       "      <td>0.519084</td>\n",
       "    </tr>\n",
       "    <tr>\n",
       "      <th>14</th>\n",
       "      <td>15.How did Reality Labs perform throughout 202...</td>\n",
       "      <td>Reality Labs had an operating loss of $4.646 b...</td>\n",
       "      <td>Reality Labs had a loss in income from operati...</td>\n",
       "      <td>0.682353</td>\n",
       "      <td>0.554217</td>\n",
       "      <td>0.658824</td>\n",
       "      <td>0.658824</td>\n",
       "    </tr>\n",
       "  </tbody>\n",
       "</table>\n",
       "</div>"
      ],
      "text/plain": [
       "                                             Question  \\\n",
       "0   1. How did Meta’s workforce change by the end ...   \n",
       "1   2. What is the report quarter, and when did it...   \n",
       "2   3. What were the key financial highlights this...   \n",
       "3   4. How much did Meta spend on restructuring fo...   \n",
       "4   5. What happened with Meta’s ad impressions an...   \n",
       "5          6. What’s the revenue outlook for Q1 2024?   \n",
       "6   7. What were Meta’s total costs and expenses f...   \n",
       "7   8. How much cash and marketable securities did...   \n",
       "8   9. What were the main areas Meta invested in d...   \n",
       "9   10.How did the Family of Apps and Reality Labs...   \n",
       "10  11.How much free cash flow did Meta generate i...   \n",
       "11  12.Did Meta make any changes to its stock repu...   \n",
       "12         13.What risks did Meta highlight for 2024?   \n",
       "13    14.What drove Meta’s revenue growth in Q4 2023?   \n",
       "14  15.How did Reality Labs perform throughout 202...   \n",
       "\n",
       "                                               Answer  \\\n",
       "0   Meta's headcount was 67,317 as of December 31,...   \n",
       "1   The reported quarter is the fourth quarter of ...   \n",
       "2   Meta reported revenue of $40.11 billion, a 25%...   \n",
       "3   Meta spent $3.45 billion on restructuring for ...   \n",
       "4   In the fourth quarter of 2023, ad impressions ...   \n",
       "5   Facebook expects first-quarter 2024 total reve...   \n",
       "6   Total costs and expenses were $23.73 billion f...   \n",
       "7   Meta had $65.40 billion in cash, cash equivale...   \n",
       "8   Meta invested in advancing AI and the metavers...   \n",
       "9   The Family of Apps reported $21.03 billion in ...   \n",
       "10  Meta generated $11.50 billion in free cash flo...   \n",
       "11  Yes, Meta announced a $50 billion increase in ...   \n",
       "12  Meta highlighted risks for 2024 including macr...   \n",
       "13  The revenue growth in Q4 2023 was driven by ad...   \n",
       "14  Reality Labs had an operating loss of $4.646 b...   \n",
       "\n",
       "                                      Original Answer   ROUGE-1   ROUGE-2  \\\n",
       "0   Meta's headcount was 67,317 as of December 31,...  1.000000  1.000000   \n",
       "1   The reported quarter is the fourth quarter of ...  0.866667  0.642857   \n",
       "2   The key financial highlights this quarter were...  0.829268  0.725000   \n",
       "3   Meta spent a total of $3.45 billion on restruc...  0.936170  0.888889   \n",
       "4   In the fourth quarter of 2023, ad impressions ...  0.980392  0.960000   \n",
       "5   The revenue outlook for Q1 2024 is expected to...  0.808989  0.666667   \n",
       "6   Meta's total costs and expenses were $23.73 bi...  0.888889  0.837209   \n",
       "7   As of December 31, 2023, Meta Platforms, Inc. ...  0.831169  0.666667   \n",
       "8   Meta invested in advancing artificial intellig...  0.596774  0.459016   \n",
       "9   In Q4 2023, the Family of Apps reported income...  0.666667  0.513761   \n",
       "10  Meta generated $11.50 billion in free cash flo...  1.000000  1.000000   \n",
       "11  Yes, Meta made changes to its stock repurchase...  0.659091  0.534884   \n",
       "12  Meta highlighted risks for 2024 including macr...  0.645161  0.377049   \n",
       "13  Meta's revenue growth in Q4 2023 was primarily...  0.595420  0.449612   \n",
       "14  Reality Labs had a loss in income from operati...  0.682353  0.554217   \n",
       "\n",
       "     ROUGE-L  ROGUE-LSUM  \n",
       "0   1.000000    1.000000  \n",
       "1   0.866667    0.866667  \n",
       "2   0.707317    0.707317  \n",
       "3   0.936170    0.936170  \n",
       "4   0.980392    0.980392  \n",
       "5   0.719101    0.719101  \n",
       "6   0.888889    0.888889  \n",
       "7   0.701299    0.701299  \n",
       "8   0.516129    0.516129  \n",
       "9   0.630631    0.630631  \n",
       "10  1.000000    1.000000  \n",
       "11  0.613636    0.613636  \n",
       "12  0.467742    0.467742  \n",
       "13  0.519084    0.519084  \n",
       "14  0.658824    0.658824  "
      ]
     },
     "metadata": {},
     "output_type": "display_data"
    }
   ],
   "source": [
    "display(df_tuned)"
   ]
  },
  {
   "cell_type": "code",
   "execution_count": 42,
   "id": "5b465544-b224-47b2-b0fa-5ddd5641b288",
   "metadata": {
    "tags": []
   },
   "outputs": [],
   "source": [
    "df_tuned.to_csv(\"answers_tuned.csv\")"
   ]
  },
  {
   "cell_type": "markdown",
   "id": "4e10cb9e-6704-444a-95d6-8dd803b326b7",
   "metadata": {},
   "source": [
    "**Based on the results from the fine-tuned model we can conclude that extensive data is needed to tune the exiting LLM. Creating data manually using the currently available knowledge base is very cumbersome process. As is visible from the results above, ROGUE scores were at par or showed a minor improvement for some questions. However, for others the performance was not as expected and it was better with the baseline gpt-turbo-3.5 model.**\n",
    "\n",
    "**We were able to achieve a total rougeLsum_precision of 80% with our baseline model and prompts, however, to tune this further a large corpus of data might be needed. The difference observed in the original vs result answers is primarily due to the formation of the sentences. The numerical metrics are matching across the board.**"
   ]
  },
  {
   "cell_type": "markdown",
   "id": "5b38ea64-246b-45bd-80ea-770e8532616b",
   "metadata": {},
   "source": [
    "## Thank You"
   ]
  }
 ],
 "metadata": {
  "kernelspec": {
   "display_name": "Python 3 (ipykernel)",
   "language": "python",
   "name": "python3"
  },
  "language_info": {
   "codemirror_mode": {
    "name": "ipython",
    "version": 3
   },
   "file_extension": ".py",
   "mimetype": "text/x-python",
   "name": "python",
   "nbconvert_exporter": "python",
   "pygments_lexer": "ipython3",
   "version": "3.12.3"
  }
 },
 "nbformat": 4,
 "nbformat_minor": 5
}
