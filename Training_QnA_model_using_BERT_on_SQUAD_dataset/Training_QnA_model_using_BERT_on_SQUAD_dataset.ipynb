{
 "cells": [
  {
   "cell_type": "markdown",
   "id": "15e965cc-6159-4012-95ce-7f1c48f1e34c",
   "metadata": {
    "id": "15e965cc-6159-4012-95ce-7f1c48f1e34c"
   },
   "source": [
    "## Data 255 - HomeWork - 10 - Transfomer\n",
    "\n"
   ]
  },
  {
   "cell_type": "markdown",
   "id": "528ab716-81de-4fcb-a40e-e1a3e369dec4",
   "metadata": {
    "id": "528ab716-81de-4fcb-a40e-e1a3e369dec4"
   },
   "source": [
    "#### Torch Text 0.18 is incompatible with Latest Torch Versions. So downgrading Torch to version 2.3.0 so that is works with Torch Text"
   ]
  },
  {
   "cell_type": "code",
   "execution_count": 1,
   "id": "3c108fa1-6e31-40a0-9b93-be339145a572",
   "metadata": {
    "execution": {
     "iopub.execute_input": "2024-11-25T04:42:01.523026Z",
     "iopub.status.busy": "2024-11-25T04:42:01.522175Z",
     "iopub.status.idle": "2024-11-25T04:42:01.527275Z",
     "shell.execute_reply": "2024-11-25T04:42:01.526088Z",
     "shell.execute_reply.started": "2024-11-25T04:42:01.522987Z"
    },
    "id": "3c108fa1-6e31-40a0-9b93-be339145a572"
   },
   "outputs": [],
   "source": [
    "#!pip uninstall -q -y torch torchtext"
   ]
  },
  {
   "cell_type": "code",
   "execution_count": 2,
   "id": "08cc3970-32a0-4971-85c1-62a9c2edca3f",
   "metadata": {
    "execution": {
     "iopub.execute_input": "2024-11-25T04:42:01.529522Z",
     "iopub.status.busy": "2024-11-25T04:42:01.529214Z",
     "iopub.status.idle": "2024-11-25T04:42:01.536740Z",
     "shell.execute_reply": "2024-11-25T04:42:01.535826Z",
     "shell.execute_reply.started": "2024-11-25T04:42:01.529492Z"
    },
    "id": "08cc3970-32a0-4971-85c1-62a9c2edca3f"
   },
   "outputs": [],
   "source": [
    "#!pip install -q torch==2.3.0 torchtext==0.18.0 torchdata portalocker==2.10.0"
   ]
  },
  {
   "cell_type": "code",
   "execution_count": 3,
   "id": "pxxq8l1vEyDW",
   "metadata": {
    "id": "pxxq8l1vEyDW"
   },
   "outputs": [],
   "source": [
    "#!pip install -q transformers==4.37.2"
   ]
  },
  {
   "cell_type": "code",
   "execution_count": 4,
   "id": "acf3382a-6599-4ad6-ab85-0718a884721a",
   "metadata": {
    "colab": {
     "base_uri": "https://localhost:8080/"
    },
    "execution": {
     "iopub.execute_input": "2024-11-25T04:42:01.538619Z",
     "iopub.status.busy": "2024-11-25T04:42:01.538330Z",
     "iopub.status.idle": "2024-11-25T04:42:01.550824Z",
     "shell.execute_reply": "2024-11-25T04:42:01.549905Z",
     "shell.execute_reply.started": "2024-11-25T04:42:01.538591Z"
    },
    "id": "acf3382a-6599-4ad6-ab85-0718a884721a",
    "outputId": "aa70e617-c1ab-4356-fad3-ec061c905dce"
   },
   "outputs": [
    {
     "name": "stderr",
     "output_type": "stream",
     "text": [
      "/usr/local/lib/python3.10/dist-packages/torchtext/datasets/__init__.py:4: UserWarning: \n",
      "/!\\ IMPORTANT WARNING ABOUT TORCHTEXT STATUS /!\\ \n",
      "Torchtext is deprecated and the last released version will be 0.18 (this one). You can silence this warning by calling the following at the beginnign of your scripts: `import torchtext; torchtext.disable_torchtext_deprecation_warning()`\n",
      "  warnings.warn(torchtext._TORCHTEXT_DEPRECATION_MSG)\n",
      "/usr/local/lib/python3.10/dist-packages/torchtext/data/__init__.py:4: UserWarning: \n",
      "/!\\ IMPORTANT WARNING ABOUT TORCHTEXT STATUS /!\\ \n",
      "Torchtext is deprecated and the last released version will be 0.18 (this one). You can silence this warning by calling the following at the beginnign of your scripts: `import torchtext; torchtext.disable_torchtext_deprecation_warning()`\n",
      "  warnings.warn(torchtext._TORCHTEXT_DEPRECATION_MSG)\n"
     ]
    }
   ],
   "source": [
    "import time\n",
    "import torch\n",
    "from tqdm import tqdm\n",
    "from torch.utils.data import DataLoader\n",
    "import torchtext\n",
    "from torchtext.datasets import SQuAD2\n",
    "from pathlib import Path\n",
    "from transformers import BertForQuestionAnswering\n",
    "from transformers import AdamW\n",
    "import transformers\n",
    "import matplotlib.pyplot as plt"
   ]
  },
  {
   "cell_type": "code",
   "execution_count": 5,
   "id": "d9bc7631-d12a-4a10-a688-b9de1a197d57",
   "metadata": {
    "colab": {
     "base_uri": "https://localhost:8080/"
    },
    "id": "d9bc7631-d12a-4a10-a688-b9de1a197d57",
    "outputId": "78b18370-e444-492d-8183-9017b5aa8dc3"
   },
   "outputs": [
    {
     "name": "stdout",
     "output_type": "stream",
     "text": [
      "cuda:0\n",
      "2.3.0+cu121\n",
      "0.18.0+cpu\n",
      "Transformers version: 4.37.2\n"
     ]
    }
   ],
   "source": [
    "device = torch.device('cuda:0' if torch.cuda.is_available() else 'cpu')\n",
    "print(device)\n",
    "print(torch.__version__)\n",
    "print(torchtext.__version__)\n",
    "print(f\"Transformers version: {transformers.__version__}\")"
   ]
  },
  {
   "cell_type": "markdown",
   "id": "2572f28c-ef7a-4cd3-a86f-b3de595ae1d5",
   "metadata": {
    "id": "2572f28c-ef7a-4cd3-a86f-b3de595ae1d5"
   },
   "source": [
    "### Step 1. Load the SQUAD 2.0 dataset from pytorch dataset library. Take minimum 20 QnA pairs."
   ]
  },
  {
   "cell_type": "code",
   "execution_count": 6,
   "id": "c46033f6-2578-4e76-babc-db7e9c81f9b4",
   "metadata": {
    "execution": {
     "iopub.execute_input": "2024-11-25T04:42:01.563556Z",
     "iopub.status.busy": "2024-11-25T04:42:01.563252Z",
     "iopub.status.idle": "2024-11-25T04:42:01.572283Z",
     "shell.execute_reply": "2024-11-25T04:42:01.571601Z",
     "shell.execute_reply.started": "2024-11-25T04:42:01.563529Z"
    },
    "id": "c46033f6-2578-4e76-babc-db7e9c81f9b4"
   },
   "outputs": [],
   "source": [
    "def load_squad_data(data_split, num_samples=20):\n",
    "    data_iter = SQuAD2(split=data_split)\n",
    "    texts = []\n",
    "    questions = []\n",
    "    answers = []\n",
    "    answer_starts = []\n",
    "    answer_ends = []\n",
    "    for count, (context, question, answer_texts, answer_start_positions) in enumerate(data_iter):\n",
    "        if count > num_samples:\n",
    "            break\n",
    "        ## Skipping Questions with Blank Answers as it is causing problems with Tokenization\n",
    "        # if not answer_texts or not answer_start_positions or -1 in answer_start_positions:\n",
    "            # print(f'{question}-{answer_texts}-{answer_start_positions}')\n",
    "        #    continue\n",
    "        for answer_text, answer_start in zip(answer_texts, answer_start_positions):\n",
    "            answer_end = answer_start + len(answer_text)\n",
    "            texts.append(context)\n",
    "            questions.append(question)\n",
    "            answers.append(answer_text)\n",
    "            answer_starts.append(answer_start)\n",
    "            answer_ends.append(answer_end)\n",
    "        count += 1\n",
    "    return texts, questions, answers, answer_starts, answer_ends"
   ]
  },
  {
   "cell_type": "markdown",
   "id": "02e2ee48-7148-45be-a304-86e98fe36ee8",
   "metadata": {
    "id": "02e2ee48-7148-45be-a304-86e98fe36ee8"
   },
   "source": [
    "### Step 2. Display a few raw QnA data samples."
   ]
  },
  {
   "cell_type": "code",
   "execution_count": 7,
   "id": "67c8bf21-627d-42e8-a48a-02ed1f04ab28",
   "metadata": {
    "colab": {
     "base_uri": "https://localhost:8080/"
    },
    "execution": {
     "iopub.execute_input": "2024-11-25T04:42:01.574159Z",
     "iopub.status.busy": "2024-11-25T04:42:01.573824Z",
     "iopub.status.idle": "2024-11-25T04:42:02.621866Z",
     "shell.execute_reply": "2024-11-25T04:42:02.620977Z",
     "shell.execute_reply.started": "2024-11-25T04:42:01.574122Z"
    },
    "id": "67c8bf21-627d-42e8-a48a-02ed1f04ab28",
    "outputId": "19bcfab5-ae60-4bfb-9c5e-ccc5046fe5ee"
   },
   "outputs": [
    {
     "name": "stderr",
     "output_type": "stream",
     "text": [
      "/usr/local/lib/python3.10/dist-packages/torchdata/datapipes/__init__.py:18: UserWarning: \n",
      "################################################################################\n",
      "WARNING!\n",
      "The 'datapipes', 'dataloader2' modules are deprecated and will be removed in a\n",
      "future torchdata release! Please see https://github.com/pytorch/data/issues/1196\n",
      "to learn more and leave feedback.\n",
      "################################################################################\n",
      "\n",
      "  deprecation_warning()\n"
     ]
    },
    {
     "name": "stdout",
     "output_type": "stream",
     "text": [
      "Context: Beyoncé Giselle Knowles-Carter (/biːˈjɒnseɪ/ bee-YON-say) (born September 4, 1981) is an American singer, songwriter, record producer and actress. Born and raised in Houston, Texas, she performed in various singing and dancing competitions as a child, and rose to fame in the late 1990s as lead singer of R&B girl-group Destiny's Child. Managed by her father, Mathew Knowles, the group became one of the world's best-selling girl groups of all time. Their hiatus saw the release of Beyoncé's debut album, Dangerously in Love (2003), which established her as a solo artist worldwide, earned five Grammy Awards and featured the Billboard Hot 100 number-one singles \"Crazy in Love\" and \"Baby Boy\".\n",
      "Question: When did Beyonce start becoming popular?\n",
      "Answer: in the late 1990s\n",
      "Answer Start: 269\n",
      "Answer End: 286\n",
      "----\n",
      "Context: Beyoncé Giselle Knowles-Carter (/biːˈjɒnseɪ/ bee-YON-say) (born September 4, 1981) is an American singer, songwriter, record producer and actress. Born and raised in Houston, Texas, she performed in various singing and dancing competitions as a child, and rose to fame in the late 1990s as lead singer of R&B girl-group Destiny's Child. Managed by her father, Mathew Knowles, the group became one of the world's best-selling girl groups of all time. Their hiatus saw the release of Beyoncé's debut album, Dangerously in Love (2003), which established her as a solo artist worldwide, earned five Grammy Awards and featured the Billboard Hot 100 number-one singles \"Crazy in Love\" and \"Baby Boy\".\n",
      "Question: What areas did Beyonce compete in when she was growing up?\n",
      "Answer: singing and dancing\n",
      "Answer Start: 207\n",
      "Answer End: 226\n",
      "----\n",
      "Context: Beyoncé Giselle Knowles-Carter (/biːˈjɒnseɪ/ bee-YON-say) (born September 4, 1981) is an American singer, songwriter, record producer and actress. Born and raised in Houston, Texas, she performed in various singing and dancing competitions as a child, and rose to fame in the late 1990s as lead singer of R&B girl-group Destiny's Child. Managed by her father, Mathew Knowles, the group became one of the world's best-selling girl groups of all time. Their hiatus saw the release of Beyoncé's debut album, Dangerously in Love (2003), which established her as a solo artist worldwide, earned five Grammy Awards and featured the Billboard Hot 100 number-one singles \"Crazy in Love\" and \"Baby Boy\".\n",
      "Question: When did Beyonce leave Destiny's Child and become a solo singer?\n",
      "Answer: 2003\n",
      "Answer Start: 526\n",
      "Answer End: 530\n",
      "----\n",
      "Context: Beyoncé Giselle Knowles-Carter (/biːˈjɒnseɪ/ bee-YON-say) (born September 4, 1981) is an American singer, songwriter, record producer and actress. Born and raised in Houston, Texas, she performed in various singing and dancing competitions as a child, and rose to fame in the late 1990s as lead singer of R&B girl-group Destiny's Child. Managed by her father, Mathew Knowles, the group became one of the world's best-selling girl groups of all time. Their hiatus saw the release of Beyoncé's debut album, Dangerously in Love (2003), which established her as a solo artist worldwide, earned five Grammy Awards and featured the Billboard Hot 100 number-one singles \"Crazy in Love\" and \"Baby Boy\".\n",
      "Question: In what city and state did Beyonce  grow up? \n",
      "Answer: Houston, Texas\n",
      "Answer Start: 166\n",
      "Answer End: 180\n",
      "----\n",
      "Context: Beyoncé Giselle Knowles-Carter (/biːˈjɒnseɪ/ bee-YON-say) (born September 4, 1981) is an American singer, songwriter, record producer and actress. Born and raised in Houston, Texas, she performed in various singing and dancing competitions as a child, and rose to fame in the late 1990s as lead singer of R&B girl-group Destiny's Child. Managed by her father, Mathew Knowles, the group became one of the world's best-selling girl groups of all time. Their hiatus saw the release of Beyoncé's debut album, Dangerously in Love (2003), which established her as a solo artist worldwide, earned five Grammy Awards and featured the Billboard Hot 100 number-one singles \"Crazy in Love\" and \"Baby Boy\".\n",
      "Question: In which decade did Beyonce become famous?\n",
      "Answer: late 1990s\n",
      "Answer Start: 276\n",
      "Answer End: 286\n",
      "----\n"
     ]
    }
   ],
   "source": [
    "train_contexts, train_questions, train_answers, train_answer_starts, train_answer_ends = load_squad_data(\"train\",2000)\n",
    "for i in range(5):\n",
    "    print(f\"Context: {train_contexts[i]}\")\n",
    "    print(f\"Question: {train_questions[i]}\")\n",
    "    print(f\"Answer: {train_answers[i]}\")\n",
    "    print(f\"Answer Start: {train_answer_starts[i]}\")\n",
    "    print(f\"Answer End: {train_answer_ends[i]}\")\n",
    "    print(\"----\")"
   ]
  },
  {
   "cell_type": "code",
   "execution_count": 8,
   "id": "7018f14c-38c3-4178-b22f-ae10a32d89f1",
   "metadata": {
    "colab": {
     "base_uri": "https://localhost:8080/"
    },
    "execution": {
     "iopub.execute_input": "2024-11-25T04:42:02.623280Z",
     "iopub.status.busy": "2024-11-25T04:42:02.623005Z",
     "iopub.status.idle": "2024-11-25T04:42:02.703561Z",
     "shell.execute_reply": "2024-11-25T04:42:02.702612Z",
     "shell.execute_reply.started": "2024-11-25T04:42:02.623253Z"
    },
    "id": "7018f14c-38c3-4178-b22f-ae10a32d89f1",
    "outputId": "80ea6ea9-08ba-4f2f-f013-cb4b0fa84b45"
   },
   "outputs": [
    {
     "name": "stdout",
     "output_type": "stream",
     "text": [
      "Context: The Normans (Norman: Nourmands; French: Normands; Latin: Normanni) were the people who in the 10th and 11th centuries gave their name to Normandy, a region in France. They were descended from Norse (\"Norman\" comes from \"Norseman\") raiders and pirates from Denmark, Iceland and Norway who, under their leader Rollo, agreed to swear fealty to King Charles III of West Francia. Through generations of assimilation and mixing with the native Frankish and Roman-Gaulish populations, their descendants would gradually merge with the Carolingian-based cultures of West Francia. The distinct cultural and ethnic identity of the Normans emerged initially in the first half of the 10th century, and it continued to evolve over the succeeding centuries.\n",
      "Question: In what country is Normandy located?\n",
      "Answer: France\n",
      "Answer Start: 159\n",
      "Answer End: 165\n",
      "----\n",
      "Context: The Normans (Norman: Nourmands; French: Normands; Latin: Normanni) were the people who in the 10th and 11th centuries gave their name to Normandy, a region in France. They were descended from Norse (\"Norman\" comes from \"Norseman\") raiders and pirates from Denmark, Iceland and Norway who, under their leader Rollo, agreed to swear fealty to King Charles III of West Francia. Through generations of assimilation and mixing with the native Frankish and Roman-Gaulish populations, their descendants would gradually merge with the Carolingian-based cultures of West Francia. The distinct cultural and ethnic identity of the Normans emerged initially in the first half of the 10th century, and it continued to evolve over the succeeding centuries.\n",
      "Question: In what country is Normandy located?\n",
      "Answer: France\n",
      "Answer Start: 159\n",
      "Answer End: 165\n",
      "----\n",
      "Context: The Normans (Norman: Nourmands; French: Normands; Latin: Normanni) were the people who in the 10th and 11th centuries gave their name to Normandy, a region in France. They were descended from Norse (\"Norman\" comes from \"Norseman\") raiders and pirates from Denmark, Iceland and Norway who, under their leader Rollo, agreed to swear fealty to King Charles III of West Francia. Through generations of assimilation and mixing with the native Frankish and Roman-Gaulish populations, their descendants would gradually merge with the Carolingian-based cultures of West Francia. The distinct cultural and ethnic identity of the Normans emerged initially in the first half of the 10th century, and it continued to evolve over the succeeding centuries.\n",
      "Question: In what country is Normandy located?\n",
      "Answer: France\n",
      "Answer Start: 159\n",
      "Answer End: 165\n",
      "----\n",
      "Context: The Normans (Norman: Nourmands; French: Normands; Latin: Normanni) were the people who in the 10th and 11th centuries gave their name to Normandy, a region in France. They were descended from Norse (\"Norman\" comes from \"Norseman\") raiders and pirates from Denmark, Iceland and Norway who, under their leader Rollo, agreed to swear fealty to King Charles III of West Francia. Through generations of assimilation and mixing with the native Frankish and Roman-Gaulish populations, their descendants would gradually merge with the Carolingian-based cultures of West Francia. The distinct cultural and ethnic identity of the Normans emerged initially in the first half of the 10th century, and it continued to evolve over the succeeding centuries.\n",
      "Question: In what country is Normandy located?\n",
      "Answer: France\n",
      "Answer Start: 159\n",
      "Answer End: 165\n",
      "----\n",
      "Context: The Normans (Norman: Nourmands; French: Normands; Latin: Normanni) were the people who in the 10th and 11th centuries gave their name to Normandy, a region in France. They were descended from Norse (\"Norman\" comes from \"Norseman\") raiders and pirates from Denmark, Iceland and Norway who, under their leader Rollo, agreed to swear fealty to King Charles III of West Francia. Through generations of assimilation and mixing with the native Frankish and Roman-Gaulish populations, their descendants would gradually merge with the Carolingian-based cultures of West Francia. The distinct cultural and ethnic identity of the Normans emerged initially in the first half of the 10th century, and it continued to evolve over the succeeding centuries.\n",
      "Question: When were the Normans in Normandy?\n",
      "Answer: 10th and 11th centuries\n",
      "Answer Start: 94\n",
      "Answer End: 117\n",
      "----\n"
     ]
    }
   ],
   "source": [
    "val_contexts, val_questions, val_answers, val_answer_starts, val_answer_ends = load_squad_data(\"dev\",500)\n",
    "for i in range(5):\n",
    "    print(f\"Context: {val_contexts[i]}\")\n",
    "    print(f\"Question: {val_questions[i]}\")\n",
    "    print(f\"Answer: {val_answers[i]}\")\n",
    "    print(f\"Answer Start: {val_answer_starts[i]}\")\n",
    "    print(f\"Answer End: {val_answer_ends[i]}\")\n",
    "    print(\"----\")"
   ]
  },
  {
   "cell_type": "code",
   "execution_count": 9,
   "id": "OTdTX-bRq4bM",
   "metadata": {
    "colab": {
     "base_uri": "https://localhost:8080/"
    },
    "id": "OTdTX-bRq4bM",
    "outputId": "506aba3f-3574-4a4c-a314-d3c1667130a8"
   },
   "outputs": [
    {
     "data": {
      "text/plain": [
       "976"
      ]
     },
     "execution_count": 9,
     "metadata": {},
     "output_type": "execute_result"
    }
   ],
   "source": [
    "len(val_contexts)"
   ]
  },
  {
   "cell_type": "code",
   "execution_count": 10,
   "id": "obdDzGvMq6rc",
   "metadata": {
    "colab": {
     "base_uri": "https://localhost:8080/"
    },
    "id": "obdDzGvMq6rc",
    "outputId": "3d10c73b-1d71-4a9e-8868-9485283c66fd"
   },
   "outputs": [
    {
     "data": {
      "text/plain": [
       "2001"
      ]
     },
     "execution_count": 10,
     "metadata": {},
     "output_type": "execute_result"
    }
   ],
   "source": [
    "len(train_contexts)"
   ]
  },
  {
   "cell_type": "markdown",
   "id": "7e3c0e38-f128-4e44-83bc-54928484c223",
   "metadata": {
    "id": "7e3c0e38-f128-4e44-83bc-54928484c223"
   },
   "source": [
    "### Step 3. Preprocess/Clean dataset as per BERT format."
   ]
  },
  {
   "cell_type": "markdown",
   "id": "a2afd15d-7fc2-4803-9260-48a04c5af985",
   "metadata": {
    "id": "a2afd15d-7fc2-4803-9260-48a04c5af985"
   },
   "source": [
    "#### Validate if any Questions have NULL answers as we don't want to include them in our training and validation sets. SQUAD 2 Dataset has lot of questions with missing answers"
   ]
  },
  {
   "cell_type": "code",
   "execution_count": 11,
   "id": "4ee0ee6e-31e5-4e92-a07f-3c7e0236feaa",
   "metadata": {
    "colab": {
     "base_uri": "https://localhost:8080/"
    },
    "execution": {
     "iopub.execute_input": "2024-11-25T04:42:02.704804Z",
     "iopub.status.busy": "2024-11-25T04:42:02.704513Z",
     "iopub.status.idle": "2024-11-25T04:42:02.709635Z",
     "shell.execute_reply": "2024-11-25T04:42:02.708769Z",
     "shell.execute_reply.started": "2024-11-25T04:42:02.704767Z"
    },
    "id": "4ee0ee6e-31e5-4e92-a07f-3c7e0236feaa",
    "outputId": "a0efb988-9ded-4bee-fe56-b7e1b436053d"
   },
   "outputs": [
    {
     "name": "stdout",
     "output_type": "stream",
     "text": [
      "Number of records with val_answer_starts as -1: 0\n"
     ]
    }
   ],
   "source": [
    "count_negative_answer_starts = sum(1 for start in train_answer_starts if start == -1)\n",
    "print(f\"Number of records with val_answer_starts as -1: {count_negative_answer_starts}\")"
   ]
  },
  {
   "cell_type": "code",
   "execution_count": 12,
   "id": "7cda6c12-3a26-42f7-abf4-08099f39ab0c",
   "metadata": {
    "colab": {
     "base_uri": "https://localhost:8080/"
    },
    "execution": {
     "iopub.execute_input": "2024-11-25T04:42:02.711320Z",
     "iopub.status.busy": "2024-11-25T04:42:02.711027Z",
     "iopub.status.idle": "2024-11-25T04:42:02.721536Z",
     "shell.execute_reply": "2024-11-25T04:42:02.720636Z",
     "shell.execute_reply.started": "2024-11-25T04:42:02.711292Z"
    },
    "id": "7cda6c12-3a26-42f7-abf4-08099f39ab0c",
    "outputId": "110211ca-1006-44d2-8c91-0ce32c22338e"
   },
   "outputs": [
    {
     "name": "stdout",
     "output_type": "stream",
     "text": [
      "Number of records with val_answer_starts as -1: 263\n"
     ]
    }
   ],
   "source": [
    "count_negative_answer_starts = sum(1 for start in val_answer_starts if start == -1)\n",
    "print(f\"Number of records with val_answer_starts as -1: {count_negative_answer_starts}\")"
   ]
  },
  {
   "cell_type": "markdown",
   "id": "db23c18a-cd49-4484-b660-dee96be87221",
   "metadata": {
    "id": "db23c18a-cd49-4484-b660-dee96be87221"
   },
   "source": [
    "#### Tokenize the contexts and questions using pre-trained bert tokenizer"
   ]
  },
  {
   "cell_type": "code",
   "execution_count": 13,
   "id": "2ca6cd51-f6df-4d8c-b894-8479e4a38866",
   "metadata": {
    "colab": {
     "base_uri": "https://localhost:8080/"
    },
    "execution": {
     "iopub.execute_input": "2024-11-25T04:42:02.723655Z",
     "iopub.status.busy": "2024-11-25T04:42:02.722860Z",
     "iopub.status.idle": "2024-11-25T04:42:02.932458Z",
     "shell.execute_reply": "2024-11-25T04:42:02.931633Z",
     "shell.execute_reply.started": "2024-11-25T04:42:02.723610Z"
    },
    "id": "2ca6cd51-f6df-4d8c-b894-8479e4a38866",
    "outputId": "ac9e242b-f755-4e74-de20-42526f6f9fd4"
   },
   "outputs": [
    {
     "name": "stderr",
     "output_type": "stream",
     "text": [
      "/usr/local/lib/python3.10/dist-packages/huggingface_hub/file_download.py:797: FutureWarning: `resume_download` is deprecated and will be removed in version 1.0.0. Downloads always resume when possible. If you want to force a new download, use `force_download=True`.\n",
      "  warnings.warn(\n",
      "/usr/local/lib/python3.10/dist-packages/huggingface_hub/utils/_auth.py:94: UserWarning: \n",
      "The secret `HF_TOKEN` does not exist in your Colab secrets.\n",
      "To authenticate with the Hugging Face Hub, create a token in your settings tab (https://huggingface.co/settings/tokens), set it as secret in your Google Colab and restart your session.\n",
      "You will be able to reuse this secret in all of your notebooks.\n",
      "Please note that authentication is recommended but still optional to access public models or datasets.\n",
      "  warnings.warn(\n"
     ]
    }
   ],
   "source": [
    "from transformers import AutoTokenizer\n",
    "tokenizer = AutoTokenizer.from_pretrained(\"bert-base-uncased\")"
   ]
  },
  {
   "cell_type": "code",
   "execution_count": 14,
   "id": "jWMWEguD3GD0",
   "metadata": {
    "id": "jWMWEguD3GD0"
   },
   "outputs": [],
   "source": [
    "#Setting up Tokenizer Parameters\n",
    "TRUNC = \"only_second\"\n",
    "PAD = \"max_length\"\n",
    "MAX_LENGTH = 384\n",
    "STRIDE = 128\n",
    "RET_TENSORS = \"pt\""
   ]
  },
  {
   "cell_type": "code",
   "execution_count": 15,
   "id": "iPSCNoYBsU7V",
   "metadata": {
    "id": "iPSCNoYBsU7V"
   },
   "outputs": [],
   "source": [
    "train_encodings = tokenizer(\n",
    "    train_questions,\n",
    "    train_contexts,\n",
    "    truncation=TRUNC,\n",
    "    padding=PAD,\n",
    "    max_length=MAX_LENGTH,\n",
    "    stride=STRIDE,\n",
    "    return_overflowing_tokens=True,\n",
    "    return_offsets_mapping=True,\n",
    "    return_tensors=RET_TENSORS\n",
    ")"
   ]
  },
  {
   "cell_type": "code",
   "execution_count": 16,
   "id": "3n1r0jnzt82B",
   "metadata": {
    "id": "3n1r0jnzt82B"
   },
   "outputs": [],
   "source": [
    "val_encodings = tokenizer(\n",
    "    val_questions,\n",
    "    val_contexts,\n",
    "    truncation=TRUNC,\n",
    "    padding=PAD,\n",
    "    max_length=MAX_LENGTH,\n",
    "    stride=STRIDE,\n",
    "    return_overflowing_tokens=True,\n",
    "    return_offsets_mapping=True,\n",
    "    return_tensors=RET_TENSORS\n",
    ")"
   ]
  },
  {
   "cell_type": "code",
   "execution_count": 17,
   "id": "6P00lB5MtiNi",
   "metadata": {
    "colab": {
     "base_uri": "https://localhost:8080/"
    },
    "id": "6P00lB5MtiNi",
    "outputId": "612dbcd7-d5ac-40f8-e43c-1b48987c7dd4"
   },
   "outputs": [
    {
     "name": "stdout",
     "output_type": "stream",
     "text": [
      "Keys in train_encodings: dict_keys(['input_ids', 'token_type_ids', 'attention_mask', 'offset_mapping', 'overflow_to_sample_mapping'])\n"
     ]
    }
   ],
   "source": [
    "print(\"Keys in train_encodings:\", train_encodings.keys())"
   ]
  },
  {
   "cell_type": "code",
   "execution_count": 18,
   "id": "c1ulR5TxuCEd",
   "metadata": {
    "colab": {
     "base_uri": "https://localhost:8080/"
    },
    "id": "c1ulR5TxuCEd",
    "outputId": "30315efb-bac2-48d8-af10-1e178a59633a"
   },
   "outputs": [
    {
     "name": "stdout",
     "output_type": "stream",
     "text": [
      "Keys in train_encodings: dict_keys(['input_ids', 'token_type_ids', 'attention_mask', 'offset_mapping', 'overflow_to_sample_mapping'])\n"
     ]
    }
   ],
   "source": [
    "print(\"Keys in train_encodings:\", val_encodings.keys())"
   ]
  },
  {
   "cell_type": "markdown",
   "id": "af7dbc3d-dc26-4c22-ae67-427e6bf5359e",
   "metadata": {
    "id": "af7dbc3d-dc26-4c22-ae67-427e6bf5359e"
   },
   "source": [
    "#### Convert the start-end positions to tokens start-end positions"
   ]
  },
  {
   "cell_type": "code",
   "execution_count": 19,
   "id": "qzCuxUmqrW_I",
   "metadata": {
    "id": "qzCuxUmqrW_I"
   },
   "outputs": [],
   "source": [
    "def add_token_positions(encodings, contexts, answers, answer_starts, tokenizer):\n",
    "    sample_mapping = encodings.pop(\"overflow_to_sample_mapping\")\n",
    "    offset_mapping = encodings.pop(\"offset_mapping\")\n",
    "\n",
    "    start_positions = []\n",
    "    end_positions = []\n",
    "\n",
    "    for i, offsets in enumerate(offset_mapping):\n",
    "        sample_index = sample_mapping[i]\n",
    "        answer_start = answer_starts[sample_index]\n",
    "        answer_text = answers[sample_index]\n",
    "        input_ids = encodings['input_ids'][i]\n",
    "        cls_index = input_ids.tolist().index(tokenizer.cls_token_id)\n",
    "\n",
    "        if answer_start == -1:\n",
    "            start_positions.append(cls_index)\n",
    "            end_positions.append(cls_index)\n",
    "        else:\n",
    "            start_char = answer_start\n",
    "            end_char = start_char + len(answer_text)\n",
    "\n",
    "            sequence_ids = encodings.sequence_ids(i)\n",
    "            token_start_index = 0\n",
    "            while sequence_ids[token_start_index] != 1:\n",
    "                token_start_index += 1\n",
    "\n",
    "            token_end_index = len(input_ids) - 1\n",
    "            while sequence_ids[token_end_index] != 1:\n",
    "                token_end_index -= 1\n",
    "\n",
    "            if offsets[token_start_index][0] > end_char or offsets[token_end_index][1] < start_char:\n",
    "                start_positions.append(cls_index)\n",
    "                end_positions.append(cls_index)\n",
    "            else:\n",
    "                while token_start_index < len(offsets) and offsets[token_start_index][0] <= start_char:\n",
    "                    token_start_index += 1\n",
    "                start_position = token_start_index - 1\n",
    "\n",
    "                while token_end_index >= 0 and offsets[token_end_index][1] >= end_char:\n",
    "                    token_end_index -= 1\n",
    "                end_position = token_end_index + 1\n",
    "\n",
    "                start_positions.append(start_position)\n",
    "                end_positions.append(end_position)\n",
    "\n",
    "    encodings.update({'start_positions': start_positions, 'end_positions': end_positions})\n",
    "    return encodings"
   ]
  },
  {
   "cell_type": "code",
   "execution_count": 20,
   "id": "dSckJOobrYgN",
   "metadata": {
    "id": "dSckJOobrYgN"
   },
   "outputs": [],
   "source": [
    "train_encodings = add_token_positions(\n",
    "    train_encodings,\n",
    "    train_contexts,\n",
    "    train_answers,\n",
    "    train_answer_starts,\n",
    "    tokenizer\n",
    ")"
   ]
  },
  {
   "cell_type": "code",
   "execution_count": 21,
   "id": "l4V44s67t4la",
   "metadata": {
    "id": "l4V44s67t4la"
   },
   "outputs": [],
   "source": [
    "val_encodings = add_token_positions(\n",
    "    val_encodings,\n",
    "    val_contexts,\n",
    "    val_answers,\n",
    "    val_answer_starts,\n",
    "    tokenizer\n",
    ")"
   ]
  },
  {
   "cell_type": "markdown",
   "id": "4d4696da-4a64-4dc8-abe3-849bd9754f10",
   "metadata": {
    "id": "4d4696da-4a64-4dc8-abe3-849bd9754f10"
   },
   "source": [
    "#### Validation that data is converted to Bert format"
   ]
  },
  {
   "cell_type": "code",
   "execution_count": 22,
   "id": "72f2a81d-d9fe-400d-9293-daf5024bda6d",
   "metadata": {
    "colab": {
     "base_uri": "https://localhost:8080/"
    },
    "execution": {
     "iopub.execute_input": "2024-11-25T04:42:06.134363Z",
     "iopub.status.busy": "2024-11-25T04:42:06.134063Z",
     "iopub.status.idle": "2024-11-25T04:42:06.140684Z",
     "shell.execute_reply": "2024-11-25T04:42:06.139872Z",
     "shell.execute_reply.started": "2024-11-25T04:42:06.134334Z"
    },
    "id": "72f2a81d-d9fe-400d-9293-daf5024bda6d",
    "outputId": "eb69ad66-953c-4429-adef-29519255574d"
   },
   "outputs": [
    {
     "name": "stdout",
     "output_type": "stream",
     "text": [
      "Sample Training Data:\n",
      "Start Token Position: 75\n",
      "End Token Position: 78\n",
      "Tokens: ['[CLS]', 'when', 'did', 'beyonce', 'start', 'becoming', 'popular', '?', '[SEP]', 'beyonce', 'gi', '##selle', 'knowles', '-', 'carter', '(', '/', 'bi', '##ː', '##ˈ', '##j', '##ɒ', '##nse', '##ɪ', '/', 'bee', '-', 'yo', '##n', '-', 'say', ')', '(', 'born', 'september', '4', ',', '1981', ')', 'is', 'an', 'american', 'singer', ',', 'songwriter', ',', 'record', 'producer', 'and', 'actress', '.', 'born', 'and', 'raised', 'in', 'houston', ',', 'texas', ',', 'she', 'performed', 'in', 'various', 'singing', 'and', 'dancing', 'competitions', 'as', 'a', 'child', ',', 'and', 'rose', 'to', 'fame', 'in', 'the', 'late', '1990s', 'as', 'lead', 'singer', 'of', 'r', '&', 'b', 'girl', '-', 'group', 'destiny', \"'\", 's', 'child', '.', 'managed', 'by', 'her', 'father', ',', 'mathew', 'knowles', ',', 'the', 'group', 'became', 'one', 'of', 'the', 'world', \"'\", 's', 'best', '-', 'selling', 'girl', 'groups', 'of', 'all', 'time', '.', 'their', 'hiatus', 'saw', 'the', 'release', 'of', 'beyonce', \"'\", 's', 'debut', 'album', ',', 'dangerously', 'in', 'love', '(', '2003', ')', ',', 'which', 'established', 'her', 'as', 'a', 'solo', 'artist', 'worldwide', ',', 'earned', 'five', 'grammy', 'awards', 'and', 'featured', 'the', 'billboard', 'hot', '100', 'number', '-', 'one', 'singles', '\"', 'crazy', 'in', 'love', '\"', 'and', '\"', 'baby', 'boy', '\"', '.', '[SEP]', '[PAD]', '[PAD]', '[PAD]', '[PAD]', '[PAD]', '[PAD]', '[PAD]', '[PAD]', '[PAD]', '[PAD]', '[PAD]', '[PAD]', '[PAD]', '[PAD]', '[PAD]', '[PAD]', '[PAD]', '[PAD]', '[PAD]', '[PAD]', '[PAD]', '[PAD]', '[PAD]', '[PAD]', '[PAD]', '[PAD]', '[PAD]', '[PAD]', '[PAD]', '[PAD]', '[PAD]', '[PAD]', '[PAD]', '[PAD]', '[PAD]', '[PAD]', '[PAD]', '[PAD]', '[PAD]', '[PAD]', '[PAD]', '[PAD]', '[PAD]', '[PAD]', '[PAD]', '[PAD]', '[PAD]', '[PAD]', '[PAD]', '[PAD]', '[PAD]', '[PAD]', '[PAD]', '[PAD]', '[PAD]', '[PAD]', '[PAD]', '[PAD]', '[PAD]', '[PAD]', '[PAD]', '[PAD]', '[PAD]', '[PAD]', '[PAD]', '[PAD]', '[PAD]', '[PAD]', '[PAD]', '[PAD]', '[PAD]', '[PAD]', '[PAD]', '[PAD]', '[PAD]', '[PAD]', '[PAD]', '[PAD]', '[PAD]', '[PAD]', '[PAD]', '[PAD]', '[PAD]', '[PAD]', '[PAD]', '[PAD]', '[PAD]', '[PAD]', '[PAD]', '[PAD]', '[PAD]', '[PAD]', '[PAD]', '[PAD]', '[PAD]', '[PAD]', '[PAD]', '[PAD]', '[PAD]', '[PAD]', '[PAD]', '[PAD]', '[PAD]', '[PAD]', '[PAD]', '[PAD]', '[PAD]', '[PAD]', '[PAD]', '[PAD]', '[PAD]', '[PAD]', '[PAD]', '[PAD]', '[PAD]', '[PAD]', '[PAD]', '[PAD]', '[PAD]', '[PAD]', '[PAD]', '[PAD]', '[PAD]', '[PAD]', '[PAD]', '[PAD]', '[PAD]', '[PAD]', '[PAD]', '[PAD]', '[PAD]', '[PAD]', '[PAD]', '[PAD]', '[PAD]', '[PAD]', '[PAD]', '[PAD]', '[PAD]', '[PAD]', '[PAD]', '[PAD]', '[PAD]', '[PAD]', '[PAD]', '[PAD]', '[PAD]', '[PAD]', '[PAD]', '[PAD]', '[PAD]', '[PAD]', '[PAD]', '[PAD]', '[PAD]', '[PAD]', '[PAD]', '[PAD]', '[PAD]', '[PAD]', '[PAD]', '[PAD]', '[PAD]', '[PAD]', '[PAD]', '[PAD]', '[PAD]', '[PAD]', '[PAD]', '[PAD]', '[PAD]', '[PAD]', '[PAD]', '[PAD]', '[PAD]', '[PAD]', '[PAD]', '[PAD]', '[PAD]', '[PAD]', '[PAD]', '[PAD]', '[PAD]', '[PAD]', '[PAD]', '[PAD]', '[PAD]', '[PAD]', '[PAD]', '[PAD]', '[PAD]', '[PAD]', '[PAD]', '[PAD]', '[PAD]', '[PAD]', '[PAD]', '[PAD]', '[PAD]', '[PAD]', '[PAD]', '[PAD]', '[PAD]', '[PAD]', '[PAD]', '[PAD]', '[PAD]', '[PAD]', '[PAD]', '[PAD]']\n"
     ]
    }
   ],
   "source": [
    "print(\"Sample Training Data:\")\n",
    "print(f\"Start Token Position: {train_encodings['start_positions'][0]}\")\n",
    "print(f\"End Token Position: {train_encodings['end_positions'][0]}\")\n",
    "print(f\"Tokens: {tokenizer.convert_ids_to_tokens(train_encodings['input_ids'][0])}\")"
   ]
  },
  {
   "cell_type": "code",
   "execution_count": 23,
   "id": "8ee15021-d972-4cd7-a1eb-7781491c83ed",
   "metadata": {
    "colab": {
     "base_uri": "https://localhost:8080/"
    },
    "execution": {
     "iopub.execute_input": "2024-11-25T04:42:06.142447Z",
     "iopub.status.busy": "2024-11-25T04:42:06.142053Z",
     "iopub.status.idle": "2024-11-25T04:42:06.154914Z",
     "shell.execute_reply": "2024-11-25T04:42:06.154077Z",
     "shell.execute_reply.started": "2024-11-25T04:42:06.142401Z"
    },
    "id": "8ee15021-d972-4cd7-a1eb-7781491c83ed",
    "outputId": "b47d08ea-fa75-439f-fd37-63f16d0125e0"
   },
   "outputs": [
    {
     "name": "stdout",
     "output_type": "stream",
     "text": [
      "Sample Validation Data:\n",
      "Start Token Position: 49\n",
      "End Token Position: 49\n",
      "Tokens: ['[CLS]', 'in', 'what', 'country', 'is', 'normandy', 'located', '?', '[SEP]', 'the', 'norman', '##s', '(', 'norman', ':', 'no', '##ur', '##man', '##ds', ';', 'french', ':', 'norman', '##ds', ';', 'latin', ':', 'norman', '##ni', ')', 'were', 'the', 'people', 'who', 'in', 'the', '10th', 'and', '11th', 'centuries', 'gave', 'their', 'name', 'to', 'normandy', ',', 'a', 'region', 'in', 'france', '.', 'they', 'were', 'descended', 'from', 'norse', '(', '\"', 'norman', '\"', 'comes', 'from', '\"', 'norse', '##man', '\"', ')', 'raiders', 'and', 'pirates', 'from', 'denmark', ',', 'iceland', 'and', 'norway', 'who', ',', 'under', 'their', 'leader', 'roll', '##o', ',', 'agreed', 'to', 'swear', 'fe', '##al', '##ty', 'to', 'king', 'charles', 'iii', 'of', 'west', 'fran', '##cia', '.', 'through', 'generations', 'of', 'assimilation', 'and', 'mixing', 'with', 'the', 'native', 'frankish', 'and', 'roman', '-', 'gaul', '##ish', 'populations', ',', 'their', 'descendants', 'would', 'gradually', 'merge', 'with', 'the', 'carol', '##ing', '##ian', '-', 'based', 'cultures', 'of', 'west', 'fran', '##cia', '.', 'the', 'distinct', 'cultural', 'and', 'ethnic', 'identity', 'of', 'the', 'norman', '##s', 'emerged', 'initially', 'in', 'the', 'first', 'half', 'of', 'the', '10th', 'century', ',', 'and', 'it', 'continued', 'to', 'evolve', 'over', 'the', 'succeeding', 'centuries', '.', '[SEP]', '[PAD]', '[PAD]', '[PAD]', '[PAD]', '[PAD]', '[PAD]', '[PAD]', '[PAD]', '[PAD]', '[PAD]', '[PAD]', '[PAD]', '[PAD]', '[PAD]', '[PAD]', '[PAD]', '[PAD]', '[PAD]', '[PAD]', '[PAD]', '[PAD]', '[PAD]', '[PAD]', '[PAD]', '[PAD]', '[PAD]', '[PAD]', '[PAD]', '[PAD]', '[PAD]', '[PAD]', '[PAD]', '[PAD]', '[PAD]', '[PAD]', '[PAD]', '[PAD]', '[PAD]', '[PAD]', '[PAD]', '[PAD]', '[PAD]', '[PAD]', '[PAD]', '[PAD]', '[PAD]', '[PAD]', '[PAD]', '[PAD]', '[PAD]', '[PAD]', '[PAD]', '[PAD]', '[PAD]', '[PAD]', '[PAD]', '[PAD]', '[PAD]', '[PAD]', '[PAD]', '[PAD]', '[PAD]', '[PAD]', '[PAD]', '[PAD]', '[PAD]', '[PAD]', '[PAD]', '[PAD]', '[PAD]', '[PAD]', '[PAD]', '[PAD]', '[PAD]', '[PAD]', '[PAD]', '[PAD]', '[PAD]', '[PAD]', '[PAD]', '[PAD]', '[PAD]', '[PAD]', '[PAD]', '[PAD]', '[PAD]', '[PAD]', '[PAD]', '[PAD]', '[PAD]', '[PAD]', '[PAD]', '[PAD]', '[PAD]', '[PAD]', '[PAD]', '[PAD]', '[PAD]', '[PAD]', '[PAD]', '[PAD]', '[PAD]', '[PAD]', '[PAD]', '[PAD]', '[PAD]', '[PAD]', '[PAD]', '[PAD]', '[PAD]', '[PAD]', '[PAD]', '[PAD]', '[PAD]', '[PAD]', '[PAD]', '[PAD]', '[PAD]', '[PAD]', '[PAD]', '[PAD]', '[PAD]', '[PAD]', '[PAD]', '[PAD]', '[PAD]', '[PAD]', '[PAD]', '[PAD]', '[PAD]', '[PAD]', '[PAD]', '[PAD]', '[PAD]', '[PAD]', '[PAD]', '[PAD]', '[PAD]', '[PAD]', '[PAD]', '[PAD]', '[PAD]', '[PAD]', '[PAD]', '[PAD]', '[PAD]', '[PAD]', '[PAD]', '[PAD]', '[PAD]', '[PAD]', '[PAD]', '[PAD]', '[PAD]', '[PAD]', '[PAD]', '[PAD]', '[PAD]', '[PAD]', '[PAD]', '[PAD]', '[PAD]', '[PAD]', '[PAD]', '[PAD]', '[PAD]', '[PAD]', '[PAD]', '[PAD]', '[PAD]', '[PAD]', '[PAD]', '[PAD]', '[PAD]', '[PAD]', '[PAD]', '[PAD]', '[PAD]', '[PAD]', '[PAD]', '[PAD]', '[PAD]', '[PAD]', '[PAD]', '[PAD]', '[PAD]', '[PAD]', '[PAD]', '[PAD]', '[PAD]', '[PAD]', '[PAD]', '[PAD]', '[PAD]', '[PAD]', '[PAD]', '[PAD]', '[PAD]', '[PAD]', '[PAD]', '[PAD]', '[PAD]', '[PAD]', '[PAD]', '[PAD]', '[PAD]', '[PAD]', '[PAD]', '[PAD]', '[PAD]', '[PAD]', '[PAD]', '[PAD]', '[PAD]', '[PAD]', '[PAD]', '[PAD]', '[PAD]']\n"
     ]
    }
   ],
   "source": [
    "print(\"Sample Validation Data:\")\n",
    "print(f\"Start Token Position: {val_encodings['start_positions'][0]}\")\n",
    "print(f\"End Token Position: {val_encodings['end_positions'][0]}\")\n",
    "print(f\"Tokens: {tokenizer.convert_ids_to_tokens(val_encodings['input_ids'][0])}\")"
   ]
  },
  {
   "cell_type": "markdown",
   "id": "745b4954-9e72-4e73-97c1-51ee43ddd408",
   "metadata": {
    "id": "745b4954-9e72-4e73-97c1-51ee43ddd408"
   },
   "source": [
    "## Step 4: Train the BERT QnA model. Evaluate the model."
   ]
  },
  {
   "cell_type": "code",
   "execution_count": 24,
   "id": "ea3d3549-3ea2-423f-a528-991db0e2640f",
   "metadata": {
    "execution": {
     "iopub.execute_input": "2024-11-25T04:42:06.156290Z",
     "iopub.status.busy": "2024-11-25T04:42:06.156030Z",
     "iopub.status.idle": "2024-11-25T04:42:06.166666Z",
     "shell.execute_reply": "2024-11-25T04:42:06.165867Z",
     "shell.execute_reply.started": "2024-11-25T04:42:06.156264Z"
    },
    "id": "ea3d3549-3ea2-423f-a528-991db0e2640f"
   },
   "outputs": [],
   "source": [
    "class CreateDataset(torch.utils.data.Dataset):\n",
    "    def __init__(self, encodings):\n",
    "        self.encodings = encodings\n",
    "    def __getitem__(self, idx):\n",
    "        return {key: torch.tensor(val[idx]) for key, val in self.encodings.items()}\n",
    "    def __len__(self):\n",
    "        return len(self.encodings.input_ids)"
   ]
  },
  {
   "cell_type": "code",
   "execution_count": 25,
   "id": "59108a40-7d9a-481b-b1af-5a3344020c5f",
   "metadata": {
    "execution": {
     "iopub.execute_input": "2024-11-25T04:42:06.168631Z",
     "iopub.status.busy": "2024-11-25T04:42:06.167903Z",
     "iopub.status.idle": "2024-11-25T04:42:06.176762Z",
     "shell.execute_reply": "2024-11-25T04:42:06.175971Z",
     "shell.execute_reply.started": "2024-11-25T04:42:06.168601Z"
    },
    "id": "59108a40-7d9a-481b-b1af-5a3344020c5f"
   },
   "outputs": [],
   "source": [
    "train_dataset = CreateDataset(train_encodings)\n",
    "val_dataset = CreateDataset(val_encodings)"
   ]
  },
  {
   "cell_type": "code",
   "execution_count": 26,
   "id": "c3c04874-cdd3-468c-8ad7-cab83d2cd174",
   "metadata": {
    "execution": {
     "iopub.execute_input": "2024-11-25T04:42:06.177956Z",
     "iopub.status.busy": "2024-11-25T04:42:06.177674Z",
     "iopub.status.idle": "2024-11-25T04:42:06.230375Z",
     "shell.execute_reply": "2024-11-25T04:42:06.229419Z",
     "shell.execute_reply.started": "2024-11-25T04:42:06.177930Z"
    },
    "id": "c3c04874-cdd3-468c-8ad7-cab83d2cd174"
   },
   "outputs": [],
   "source": [
    "train_loader = DataLoader(train_dataset, batch_size=8, shuffle=True)\n",
    "val_loader = DataLoader(val_dataset, batch_size=8, shuffle=False)"
   ]
  },
  {
   "cell_type": "code",
   "execution_count": 27,
   "id": "9a9e12de-d536-4155-b2c5-39add6a53bf8",
   "metadata": {
    "colab": {
     "base_uri": "https://localhost:8080/"
    },
    "execution": {
     "iopub.execute_input": "2024-11-25T04:42:06.289297Z",
     "iopub.status.busy": "2024-11-25T04:42:06.289062Z",
     "iopub.status.idle": "2024-11-25T04:42:06.929824Z",
     "shell.execute_reply": "2024-11-25T04:42:06.928887Z",
     "shell.execute_reply.started": "2024-11-25T04:42:06.289273Z"
    },
    "id": "9a9e12de-d536-4155-b2c5-39add6a53bf8",
    "outputId": "1b919d8a-6010-42c3-e952-8a44ac3f74eb"
   },
   "outputs": [
    {
     "name": "stderr",
     "output_type": "stream",
     "text": [
      "Some weights of BertForQuestionAnswering were not initialized from the model checkpoint at bert-base-uncased and are newly initialized: ['qa_outputs.bias', 'qa_outputs.weight']\n",
      "You should probably TRAIN this model on a down-stream task to be able to use it for predictions and inference.\n"
     ]
    }
   ],
   "source": [
    "model = BertForQuestionAnswering.from_pretrained('bert-base-uncased').to(device)"
   ]
  },
  {
   "cell_type": "code",
   "execution_count": 28,
   "id": "7fd960f6-318c-4513-8638-c4477411542d",
   "metadata": {
    "colab": {
     "base_uri": "https://localhost:8080/"
    },
    "execution": {
     "iopub.execute_input": "2024-11-25T04:42:06.931508Z",
     "iopub.status.busy": "2024-11-25T04:42:06.931126Z",
     "iopub.status.idle": "2024-11-25T04:42:06.940440Z",
     "shell.execute_reply": "2024-11-25T04:42:06.939648Z",
     "shell.execute_reply.started": "2024-11-25T04:42:06.931464Z"
    },
    "id": "7fd960f6-318c-4513-8638-c4477411542d",
    "outputId": "1aebda54-77ad-4a50-94e4-4e34d240b409"
   },
   "outputs": [
    {
     "name": "stderr",
     "output_type": "stream",
     "text": [
      "/usr/local/lib/python3.10/dist-packages/transformers/optimization.py:429: FutureWarning: This implementation of AdamW is deprecated and will be removed in a future version. Use the PyTorch implementation torch.optim.AdamW instead, or set `no_deprecation_warning=True` to disable this warning\n",
      "  warnings.warn(\n"
     ]
    }
   ],
   "source": [
    "optim = AdamW(model.parameters(), lr=5e-5)\n",
    "epochs = 5"
   ]
  },
  {
   "cell_type": "code",
   "execution_count": 29,
   "id": "d8dad1fc-bb82-4d03-8ec7-c10302ac54e7",
   "metadata": {
    "colab": {
     "base_uri": "https://localhost:8080/"
    },
    "execution": {
     "iopub.execute_input": "2024-11-25T04:42:06.942554Z",
     "iopub.status.busy": "2024-11-25T04:42:06.941946Z",
     "iopub.status.idle": "2024-11-25T04:42:06.948271Z",
     "shell.execute_reply": "2024-11-25T04:42:06.947650Z",
     "shell.execute_reply.started": "2024-11-25T04:42:06.942524Z"
    },
    "id": "d8dad1fc-bb82-4d03-8ec7-c10302ac54e7",
    "outputId": "bf2c3c81-d32b-4173-903c-c73c7938cb85"
   },
   "outputs": [
    {
     "data": {
      "text/plain": [
       "257"
      ]
     },
     "execution_count": 29,
     "metadata": {},
     "output_type": "execute_result"
    }
   ],
   "source": [
    "len(train_loader)"
   ]
  },
  {
   "cell_type": "code",
   "execution_count": 30,
   "id": "PFJUw7VzrjG1",
   "metadata": {
    "colab": {
     "base_uri": "https://localhost:8080/"
    },
    "id": "PFJUw7VzrjG1",
    "outputId": "d0432bb0-0321-4bf2-d6e0-0ff5015daab5"
   },
   "outputs": [
    {
     "data": {
      "text/plain": [
       "124"
      ]
     },
     "execution_count": 30,
     "metadata": {},
     "output_type": "execute_result"
    }
   ],
   "source": [
    "len(val_loader)"
   ]
  },
  {
   "cell_type": "code",
   "execution_count": 31,
   "id": "2e010041-2215-4716-a2c0-3c13c757d040",
   "metadata": {
    "id": "2e010041-2215-4716-a2c0-3c13c757d040"
   },
   "outputs": [],
   "source": [
    "def train_one_epoch(model, train_loader, optimizer, device, log_frequency=10):\n",
    "    model.train()\n",
    "    total_train_loss = 0\n",
    "\n",
    "    for batch_idx, data_batch in enumerate(tqdm(train_loader, desc=\"Training\", ncols=100)):\n",
    "        optimizer.zero_grad()\n",
    "\n",
    "        input_ids = data_batch['input_ids'].to(device)\n",
    "        attention_mask = data_batch['attention_mask'].to(device)\n",
    "        start_pos = data_batch['start_positions'].to(device)\n",
    "        end_pos = data_batch['end_positions'].to(device)\n",
    "\n",
    "        predictions = model(input_ids, attention_mask=attention_mask, start_positions=start_pos, end_positions=end_pos)\n",
    "        batch_loss = predictions[0]\n",
    "\n",
    "        batch_loss.backward()\n",
    "        optimizer.step()\n",
    "\n",
    "        total_train_loss += batch_loss.item()\n",
    "\n",
    "        if (batch_idx + 1) % log_frequency == 0:\n",
    "            print(f\"Batch {batch_idx + 1}/{len(train_loader)} Loss: {round(batch_loss.item(), 2)}\")\n",
    "\n",
    "    avg_train_loss = total_train_loss / len(train_loader)\n",
    "    return avg_train_loss"
   ]
  },
  {
   "cell_type": "code",
   "execution_count": 32,
   "id": "12bc29cc-cf9a-47fe-8d9e-6c53cddc1beb",
   "metadata": {
    "id": "12bc29cc-cf9a-47fe-8d9e-6c53cddc1beb"
   },
   "outputs": [],
   "source": [
    "def evaluate_one_epoch(model, val_loader, device, log_frequency=10):\n",
    "    model.eval()\n",
    "    total_val_loss = 0\n",
    "\n",
    "    with torch.no_grad():\n",
    "        for batch_idx, data_batch in enumerate(tqdm(val_loader, desc=\"Validation\", ncols=100)):\n",
    "            input_ids = data_batch['input_ids'].to(device)\n",
    "            attention_mask = data_batch['attention_mask'].to(device)\n",
    "            start_pos = data_batch['start_positions'].to(device)\n",
    "            end_pos = data_batch['end_positions'].to(device)\n",
    "\n",
    "            predictions = model(input_ids, attention_mask=attention_mask, start_positions=start_pos, end_positions=end_pos)\n",
    "            batch_loss = predictions[0]\n",
    "\n",
    "            total_val_loss += batch_loss.item()\n",
    "\n",
    "            if (batch_idx + 1) % log_frequency == 0:\n",
    "                print(f\"Batch Count: {batch_idx + 1}/{len(val_loader)} Validation Loss: {round(batch_loss.item(), 2)}\")\n",
    "\n",
    "    avg_val_loss = total_val_loss / len(val_loader)\n",
    "    return avg_val_loss"
   ]
  },
  {
   "cell_type": "code",
   "execution_count": 33,
   "id": "54fcf003-8e51-48da-9845-d2927cc4f632",
   "metadata": {
    "id": "54fcf003-8e51-48da-9845-d2927cc4f632"
   },
   "outputs": [],
   "source": [
    "def train_and_evaluate(model, train_loader, val_loader, optimizer, device, epochs, log_frequency=10):\n",
    "    total_time = time.time()\n",
    "    train_losses = []\n",
    "    val_losses = []\n",
    "\n",
    "    for epoch_num in range(epochs):\n",
    "        print(f\"===== Epoch {epoch_num + 1}/{epochs} =====\")\n",
    "        epoch_start_time = time.time()\n",
    "        print(\"-----> Training\")\n",
    "        train_loss = train_one_epoch(model, train_loader, optimizer, device, log_frequency)\n",
    "        train_losses.append(train_loss)\n",
    "        print(\"-----> Validation\")\n",
    "        val_loss = evaluate_one_epoch(model, val_loader, device, log_frequency)\n",
    "        val_losses.append(val_loss)\n",
    "\n",
    "        print(f\"\\n--- Epoch {epoch_num + 1} Summary ---\"\n",
    "              f\"\\nTraining Loss: {train_loss}\"\n",
    "              f\"\\nValidation Loss: {val_loss}\"\n",
    "              f\"\\nTime Taken: {round(time.time() - epoch_start_time, 2)} seconds\"\n",
    "              f\"\\n-------------------------------\\n\")\n",
    "\n",
    "    print(f\"Total Training and Evaluation Time: {round(time.time() - total_time, 2)} seconds\")\n",
    "    return {\"train_losses\": train_losses, \"val_losses\": val_losses}"
   ]
  },
  {
   "cell_type": "code",
   "execution_count": 34,
   "id": "d93ebbed-db75-42da-bbab-242cdf027fb4",
   "metadata": {
    "colab": {
     "base_uri": "https://localhost:8080/"
    },
    "id": "d93ebbed-db75-42da-bbab-242cdf027fb4",
    "outputId": "c1f33d83-8ab1-44c1-f6da-b35ce34c2933"
   },
   "outputs": [
    {
     "name": "stdout",
     "output_type": "stream",
     "text": [
      "===== Epoch 1/5 =====\n",
      "-----> Training\n"
     ]
    },
    {
     "name": "stderr",
     "output_type": "stream",
     "text": [
      "Training:   0%|                                                             | 0/257 [00:00<?, ?it/s]<ipython-input-24-a8608bdc7753>:5: UserWarning: To copy construct from a tensor, it is recommended to use sourceTensor.clone().detach() or sourceTensor.clone().detach().requires_grad_(True), rather than torch.tensor(sourceTensor).\n",
      "  return {key: torch.tensor(val[idx]) for key, val in self.encodings.items()}\n",
      "Training:  19%|██████████                                          | 50/257 [00:30<02:02,  1.69it/s]"
     ]
    },
    {
     "name": "stdout",
     "output_type": "stream",
     "text": [
      "Batch 50/257 Loss: 3.62\n"
     ]
    },
    {
     "name": "stderr",
     "output_type": "stream",
     "text": [
      "Training:  39%|███████████████████▊                               | 100/257 [00:58<01:28,  1.77it/s]"
     ]
    },
    {
     "name": "stdout",
     "output_type": "stream",
     "text": [
      "Batch 100/257 Loss: 3.05\n"
     ]
    },
    {
     "name": "stderr",
     "output_type": "stream",
     "text": [
      "Training:  58%|█████████████████████████████▊                     | 150/257 [01:26<01:00,  1.77it/s]"
     ]
    },
    {
     "name": "stdout",
     "output_type": "stream",
     "text": [
      "Batch 150/257 Loss: 2.44\n"
     ]
    },
    {
     "name": "stderr",
     "output_type": "stream",
     "text": [
      "Training:  78%|███████████████████████████████████████▋           | 200/257 [01:55<00:32,  1.75it/s]"
     ]
    },
    {
     "name": "stdout",
     "output_type": "stream",
     "text": [
      "Batch 200/257 Loss: 2.05\n"
     ]
    },
    {
     "name": "stderr",
     "output_type": "stream",
     "text": [
      "Training:  97%|█████████████████████████████████████████████████▌ | 250/257 [02:23<00:03,  1.77it/s]"
     ]
    },
    {
     "name": "stdout",
     "output_type": "stream",
     "text": [
      "Batch 250/257 Loss: 2.26\n"
     ]
    },
    {
     "name": "stderr",
     "output_type": "stream",
     "text": [
      "Training: 100%|███████████████████████████████████████████████████| 257/257 [02:27<00:00,  1.74it/s]\n"
     ]
    },
    {
     "name": "stdout",
     "output_type": "stream",
     "text": [
      "-----> Validation\n"
     ]
    },
    {
     "name": "stderr",
     "output_type": "stream",
     "text": [
      "Validation:  41%|████████████████████▌                             | 51/124 [00:10<00:14,  5.10it/s]"
     ]
    },
    {
     "name": "stdout",
     "output_type": "stream",
     "text": [
      "Batch Count: 50/124 Validation Loss: 3.34\n"
     ]
    },
    {
     "name": "stderr",
     "output_type": "stream",
     "text": [
      "Validation:  81%|███████████████████████████████████████▉         | 101/124 [00:19<00:04,  5.10it/s]"
     ]
    },
    {
     "name": "stdout",
     "output_type": "stream",
     "text": [
      "Batch Count: 100/124 Validation Loss: 1.14\n"
     ]
    },
    {
     "name": "stderr",
     "output_type": "stream",
     "text": [
      "Validation: 100%|█████████████████████████████████████████████████| 124/124 [00:24<00:00,  5.10it/s]\n"
     ]
    },
    {
     "name": "stdout",
     "output_type": "stream",
     "text": [
      "\n",
      "--- Epoch 1 Summary ---\n",
      "Training Loss: 2.9769770973851246\n",
      "Validation Loss: 3.029355332736046\n",
      "Time Taken: 171.8 seconds\n",
      "-------------------------------\n",
      "\n",
      "===== Epoch 2/5 =====\n",
      "-----> Training\n"
     ]
    },
    {
     "name": "stderr",
     "output_type": "stream",
     "text": [
      "Training:  19%|██████████                                          | 50/257 [00:28<01:57,  1.76it/s]"
     ]
    },
    {
     "name": "stdout",
     "output_type": "stream",
     "text": [
      "Batch 50/257 Loss: 1.32\n"
     ]
    },
    {
     "name": "stderr",
     "output_type": "stream",
     "text": [
      "Training:  39%|███████████████████▊                               | 100/257 [00:56<01:29,  1.76it/s]"
     ]
    },
    {
     "name": "stdout",
     "output_type": "stream",
     "text": [
      "Batch 100/257 Loss: 1.41\n"
     ]
    },
    {
     "name": "stderr",
     "output_type": "stream",
     "text": [
      "Training:  58%|█████████████████████████████▊                     | 150/257 [01:25<01:01,  1.75it/s]"
     ]
    },
    {
     "name": "stdout",
     "output_type": "stream",
     "text": [
      "Batch 150/257 Loss: 0.24\n"
     ]
    },
    {
     "name": "stderr",
     "output_type": "stream",
     "text": [
      "Training:  78%|███████████████████████████████████████▋           | 200/257 [01:53<00:32,  1.77it/s]"
     ]
    },
    {
     "name": "stdout",
     "output_type": "stream",
     "text": [
      "Batch 200/257 Loss: 2.19\n"
     ]
    },
    {
     "name": "stderr",
     "output_type": "stream",
     "text": [
      "Training:  97%|█████████████████████████████████████████████████▌ | 250/257 [02:21<00:03,  1.76it/s]"
     ]
    },
    {
     "name": "stdout",
     "output_type": "stream",
     "text": [
      "Batch 250/257 Loss: 1.37\n"
     ]
    },
    {
     "name": "stderr",
     "output_type": "stream",
     "text": [
      "Training: 100%|███████████████████████████████████████████████████| 257/257 [02:25<00:00,  1.76it/s]\n"
     ]
    },
    {
     "name": "stdout",
     "output_type": "stream",
     "text": [
      "-----> Validation\n"
     ]
    },
    {
     "name": "stderr",
     "output_type": "stream",
     "text": [
      "Validation:  41%|████████████████████▌                             | 51/124 [00:10<00:14,  5.11it/s]"
     ]
    },
    {
     "name": "stdout",
     "output_type": "stream",
     "text": [
      "Batch Count: 50/124 Validation Loss: 4.73\n"
     ]
    },
    {
     "name": "stderr",
     "output_type": "stream",
     "text": [
      "Validation:  81%|███████████████████████████████████████▉         | 101/124 [00:19<00:04,  5.08it/s]"
     ]
    },
    {
     "name": "stdout",
     "output_type": "stream",
     "text": [
      "Batch Count: 100/124 Validation Loss: 1.17\n"
     ]
    },
    {
     "name": "stderr",
     "output_type": "stream",
     "text": [
      "Validation: 100%|█████████████████████████████████████████████████| 124/124 [00:24<00:00,  5.10it/s]\n"
     ]
    },
    {
     "name": "stdout",
     "output_type": "stream",
     "text": [
      "\n",
      "--- Epoch 2 Summary ---\n",
      "Training Loss: 1.193715006634883\n",
      "Validation Loss: 3.804962920325418\n",
      "Time Taken: 169.94 seconds\n",
      "-------------------------------\n",
      "\n",
      "===== Epoch 3/5 =====\n",
      "-----> Training\n"
     ]
    },
    {
     "name": "stderr",
     "output_type": "stream",
     "text": [
      "Training:  19%|██████████                                          | 50/257 [00:28<01:57,  1.77it/s]"
     ]
    },
    {
     "name": "stdout",
     "output_type": "stream",
     "text": [
      "Batch 50/257 Loss: 0.29\n"
     ]
    },
    {
     "name": "stderr",
     "output_type": "stream",
     "text": [
      "Training:  39%|███████████████████▊                               | 100/257 [00:56<01:28,  1.76it/s]"
     ]
    },
    {
     "name": "stdout",
     "output_type": "stream",
     "text": [
      "Batch 100/257 Loss: 0.45\n"
     ]
    },
    {
     "name": "stderr",
     "output_type": "stream",
     "text": [
      "Training:  58%|█████████████████████████████▊                     | 150/257 [01:25<01:00,  1.76it/s]"
     ]
    },
    {
     "name": "stdout",
     "output_type": "stream",
     "text": [
      "Batch 150/257 Loss: 0.4\n"
     ]
    },
    {
     "name": "stderr",
     "output_type": "stream",
     "text": [
      "Training:  78%|███████████████████████████████████████▋           | 200/257 [01:53<00:32,  1.76it/s]"
     ]
    },
    {
     "name": "stdout",
     "output_type": "stream",
     "text": [
      "Batch 200/257 Loss: 1.07\n"
     ]
    },
    {
     "name": "stderr",
     "output_type": "stream",
     "text": [
      "Training:  97%|█████████████████████████████████████████████████▌ | 250/257 [02:21<00:03,  1.76it/s]"
     ]
    },
    {
     "name": "stdout",
     "output_type": "stream",
     "text": [
      "Batch 250/257 Loss: 0.36\n"
     ]
    },
    {
     "name": "stderr",
     "output_type": "stream",
     "text": [
      "Training: 100%|███████████████████████████████████████████████████| 257/257 [02:25<00:00,  1.77it/s]\n"
     ]
    },
    {
     "name": "stdout",
     "output_type": "stream",
     "text": [
      "-----> Validation\n"
     ]
    },
    {
     "name": "stderr",
     "output_type": "stream",
     "text": [
      "Validation:  41%|████████████████████▌                             | 51/124 [00:10<00:14,  5.07it/s]"
     ]
    },
    {
     "name": "stdout",
     "output_type": "stream",
     "text": [
      "Batch Count: 50/124 Validation Loss: 5.48\n"
     ]
    },
    {
     "name": "stderr",
     "output_type": "stream",
     "text": [
      "Validation:  81%|███████████████████████████████████████▉         | 101/124 [00:19<00:04,  5.07it/s]"
     ]
    },
    {
     "name": "stdout",
     "output_type": "stream",
     "text": [
      "Batch Count: 100/124 Validation Loss: 0.49\n"
     ]
    },
    {
     "name": "stderr",
     "output_type": "stream",
     "text": [
      "Validation: 100%|█████████████████████████████████████████████████| 124/124 [00:24<00:00,  5.08it/s]\n"
     ]
    },
    {
     "name": "stdout",
     "output_type": "stream",
     "text": [
      "\n",
      "--- Epoch 3 Summary ---\n",
      "Training Loss: 0.6076954053968538\n",
      "Validation Loss: 4.234656792975241\n",
      "Time Taken: 169.82 seconds\n",
      "-------------------------------\n",
      "\n",
      "===== Epoch 4/5 =====\n",
      "-----> Training\n"
     ]
    },
    {
     "name": "stderr",
     "output_type": "stream",
     "text": [
      "Training:  19%|██████████                                          | 50/257 [00:28<01:57,  1.76it/s]"
     ]
    },
    {
     "name": "stdout",
     "output_type": "stream",
     "text": [
      "Batch 50/257 Loss: 0.15\n"
     ]
    },
    {
     "name": "stderr",
     "output_type": "stream",
     "text": [
      "Training:  39%|███████████████████▊                               | 100/257 [00:56<01:28,  1.77it/s]"
     ]
    },
    {
     "name": "stdout",
     "output_type": "stream",
     "text": [
      "Batch 100/257 Loss: 0.07\n"
     ]
    },
    {
     "name": "stderr",
     "output_type": "stream",
     "text": [
      "Training:  58%|█████████████████████████████▊                     | 150/257 [01:24<01:00,  1.77it/s]"
     ]
    },
    {
     "name": "stdout",
     "output_type": "stream",
     "text": [
      "Batch 150/257 Loss: 0.18\n"
     ]
    },
    {
     "name": "stderr",
     "output_type": "stream",
     "text": [
      "Training:  78%|███████████████████████████████████████▋           | 200/257 [01:53<00:32,  1.76it/s]"
     ]
    },
    {
     "name": "stdout",
     "output_type": "stream",
     "text": [
      "Batch 200/257 Loss: 1.12\n"
     ]
    },
    {
     "name": "stderr",
     "output_type": "stream",
     "text": [
      "Training:  97%|█████████████████████████████████████████████████▌ | 250/257 [02:21<00:03,  1.76it/s]"
     ]
    },
    {
     "name": "stdout",
     "output_type": "stream",
     "text": [
      "Batch 250/257 Loss: 0.44\n"
     ]
    },
    {
     "name": "stderr",
     "output_type": "stream",
     "text": [
      "Training: 100%|███████████████████████████████████████████████████| 257/257 [02:25<00:00,  1.77it/s]\n"
     ]
    },
    {
     "name": "stdout",
     "output_type": "stream",
     "text": [
      "-----> Validation\n"
     ]
    },
    {
     "name": "stderr",
     "output_type": "stream",
     "text": [
      "Validation:  41%|████████████████████▌                             | 51/124 [00:10<00:14,  5.09it/s]"
     ]
    },
    {
     "name": "stdout",
     "output_type": "stream",
     "text": [
      "Batch Count: 50/124 Validation Loss: 6.22\n"
     ]
    },
    {
     "name": "stderr",
     "output_type": "stream",
     "text": [
      "Validation:  81%|███████████████████████████████████████▉         | 101/124 [00:19<00:04,  5.09it/s]"
     ]
    },
    {
     "name": "stdout",
     "output_type": "stream",
     "text": [
      "Batch Count: 100/124 Validation Loss: 0.95\n"
     ]
    },
    {
     "name": "stderr",
     "output_type": "stream",
     "text": [
      "Validation: 100%|█████████████████████████████████████████████████| 124/124 [00:24<00:00,  5.09it/s]\n"
     ]
    },
    {
     "name": "stdout",
     "output_type": "stream",
     "text": [
      "\n",
      "--- Epoch 4 Summary ---\n",
      "Training Loss: 0.3949670562093012\n",
      "Validation Loss: 4.85736351478244\n",
      "Time Taken: 169.78 seconds\n",
      "-------------------------------\n",
      "\n",
      "===== Epoch 5/5 =====\n",
      "-----> Training\n"
     ]
    },
    {
     "name": "stderr",
     "output_type": "stream",
     "text": [
      "Training:  19%|██████████                                          | 50/257 [00:28<01:57,  1.76it/s]"
     ]
    },
    {
     "name": "stdout",
     "output_type": "stream",
     "text": [
      "Batch 50/257 Loss: 0.06\n"
     ]
    },
    {
     "name": "stderr",
     "output_type": "stream",
     "text": [
      "Training:  39%|███████████████████▊                               | 100/257 [00:56<01:28,  1.77it/s]"
     ]
    },
    {
     "name": "stdout",
     "output_type": "stream",
     "text": [
      "Batch 100/257 Loss: 0.2\n"
     ]
    },
    {
     "name": "stderr",
     "output_type": "stream",
     "text": [
      "Training:  58%|█████████████████████████████▊                     | 150/257 [01:24<01:00,  1.76it/s]"
     ]
    },
    {
     "name": "stdout",
     "output_type": "stream",
     "text": [
      "Batch 150/257 Loss: 0.52\n"
     ]
    },
    {
     "name": "stderr",
     "output_type": "stream",
     "text": [
      "Training:  78%|███████████████████████████████████████▋           | 200/257 [01:53<00:32,  1.76it/s]"
     ]
    },
    {
     "name": "stdout",
     "output_type": "stream",
     "text": [
      "Batch 200/257 Loss: 0.14\n"
     ]
    },
    {
     "name": "stderr",
     "output_type": "stream",
     "text": [
      "Training:  97%|█████████████████████████████████████████████████▌ | 250/257 [02:21<00:03,  1.76it/s]"
     ]
    },
    {
     "name": "stdout",
     "output_type": "stream",
     "text": [
      "Batch 250/257 Loss: 0.71\n"
     ]
    },
    {
     "name": "stderr",
     "output_type": "stream",
     "text": [
      "Training: 100%|███████████████████████████████████████████████████| 257/257 [02:25<00:00,  1.77it/s]\n"
     ]
    },
    {
     "name": "stdout",
     "output_type": "stream",
     "text": [
      "-----> Validation\n"
     ]
    },
    {
     "name": "stderr",
     "output_type": "stream",
     "text": [
      "Validation:  41%|████████████████████▌                             | 51/124 [00:10<00:14,  5.11it/s]"
     ]
    },
    {
     "name": "stdout",
     "output_type": "stream",
     "text": [
      "Batch Count: 50/124 Validation Loss: 7.15\n"
     ]
    },
    {
     "name": "stderr",
     "output_type": "stream",
     "text": [
      "Validation:  81%|███████████████████████████████████████▉         | 101/124 [00:19<00:04,  5.09it/s]"
     ]
    },
    {
     "name": "stdout",
     "output_type": "stream",
     "text": [
      "Batch Count: 100/124 Validation Loss: 1.2\n"
     ]
    },
    {
     "name": "stderr",
     "output_type": "stream",
     "text": [
      "Validation: 100%|█████████████████████████████████████████████████| 124/124 [00:24<00:00,  5.11it/s]"
     ]
    },
    {
     "name": "stdout",
     "output_type": "stream",
     "text": [
      "\n",
      "--- Epoch 5 Summary ---\n",
      "Training Loss: 0.28319769621199786\n",
      "Validation Loss: 4.6621826690050865\n",
      "Time Taken: 169.68 seconds\n",
      "-------------------------------\n",
      "\n",
      "Total Training and Evaluation Time: 851.03 seconds\n"
     ]
    },
    {
     "name": "stderr",
     "output_type": "stream",
     "text": [
      "\n"
     ]
    }
   ],
   "source": [
    "metrics = train_and_evaluate(\n",
    "    model=model,\n",
    "    train_loader=train_loader,\n",
    "    val_loader=val_loader,\n",
    "    optimizer=optim,\n",
    "    device=device,\n",
    "    epochs=epochs,\n",
    "    log_frequency=50\n",
    ")\n",
    "\n",
    "# Plotting metrics\n",
    "train_losses = metrics['train_losses']\n",
    "val_losses = metrics['val_losses']"
   ]
  },
  {
   "cell_type": "code",
   "execution_count": 35,
   "id": "37457511-8d9a-4f49-bc38-4ee40dce915c",
   "metadata": {
    "colab": {
     "base_uri": "https://localhost:8080/",
     "height": 564
    },
    "id": "37457511-8d9a-4f49-bc38-4ee40dce915c",
    "outputId": "7c49a4d7-64a3-4c03-b84e-947b374aee57"
   },
   "outputs": [
    {
     "data": {
      "image/png": "[encoded data removed]",
      "text/plain": [
       "<Figure size 1000x600 with 1 Axes>"
      ]
     },
     "metadata": {},
     "output_type": "display_data"
    }
   ],
   "source": [
    "plt.figure(figsize=(10, 6))\n",
    "plt.plot(range(epochs), train_losses, label='Training Loss', color='b', linestyle='-', marker='o')\n",
    "plt.title('Training Losses over Epochs')\n",
    "plt.xlabel('Epochs')\n",
    "plt.ylabel('Loss')\n",
    "plt.legend()\n",
    "plt.grid(True)\n",
    "plt.show()"
   ]
  },
  {
   "cell_type": "markdown",
   "id": "5d199fa7-a861-4e81-9217-210fbf4cfc52",
   "metadata": {
    "id": "5d199fa7-a861-4e81-9217-210fbf4cfc52"
   },
   "source": [
    "## Step 5: Perform an Inference and show the predicted vs ground truth answers."
   ]
  },
  {
   "cell_type": "code",
   "execution_count": 36,
   "id": "beY3VdnYL5vr",
   "metadata": {
    "id": "beY3VdnYL5vr"
   },
   "outputs": [],
   "source": [
    "def get_prediction(context_text, question_text):\n",
    "    encoded_inputs = tokenizer.encode_plus(question_text, context_text, return_tensors='pt')\n",
    "    encoded_inputs = encoded_inputs.to(device)\n",
    "\n",
    "    output_scores = model(**encoded_inputs)\n",
    "    start_idx = torch.argmax(output_scores[0])\n",
    "    end_idx = torch.argmax(output_scores[1]) + 1\n",
    "\n",
    "    predicted_answer = tokenizer.convert_tokens_to_string(\n",
    "        tokenizer.convert_ids_to_tokens(encoded_inputs['input_ids'][0][start_idx:end_idx])\n",
    "    )\n",
    "\n",
    "    return predicted_answer"
   ]
  },
  {
   "cell_type": "code",
   "execution_count": 37,
   "id": "FrIzRvKAL8cV",
   "metadata": {
    "id": "FrIzRvKAL8cV"
   },
   "outputs": [],
   "source": [
    "def clean_text(text):\n",
    "    import re, string\n",
    "    def remove_articles(input_text):\n",
    "        return re.sub(r\"\\b(a|an|the)\\b\", \" \", input_text, flags=re.UNICODE)\n",
    "    def remove_punctuation(input_text):\n",
    "        return \"\".join(char for char in input_text if char not in string.punctuation)\n",
    "    def fix_whitespace(input_text):\n",
    "        return \" \".join(input_text.split())\n",
    "    def to_lowercase(input_text):\n",
    "        return input_text.lower()\n",
    "\n",
    "    return fix_whitespace(remove_articles(remove_punctuation(to_lowercase(text))))"
   ]
  },
  {
   "cell_type": "code",
   "execution_count": 38,
   "id": "p5HH6E-TL-Oz",
   "metadata": {
    "id": "p5HH6E-TL-Oz"
   },
   "outputs": [],
   "source": [
    "def calculate_exact_match(predicted, actual):\n",
    "    return int(clean_text(predicted) == clean_text(actual))"
   ]
  },
  {
   "cell_type": "code",
   "execution_count": 39,
   "id": "aaa00d17-ab78-44ab-939e-2d3d658baa7d",
   "metadata": {
    "execution": {
     "iopub.execute_input": "2024-11-25T04:45:37.057773Z",
     "iopub.status.busy": "2024-11-25T04:45:37.057143Z",
     "iopub.status.idle": "2024-11-25T04:45:37.066911Z",
     "shell.execute_reply": "2024-11-25T04:45:37.066066Z",
     "shell.execute_reply.started": "2024-11-25T04:45:37.057712Z"
    },
    "id": "aaa00d17-ab78-44ab-939e-2d3d658baa7d"
   },
   "outputs": [],
   "source": [
    "def calculate_f1_score(predicted, actual):\n",
    "    predicted_tokens = clean_text(predicted).split()\n",
    "    actual_tokens = clean_text(actual).split()\n",
    "\n",
    "    if not predicted_tokens or not actual_tokens:\n",
    "        return int(predicted_tokens == actual_tokens)\n",
    "    shared_tokens = set(predicted_tokens) & set(actual_tokens)\n",
    "\n",
    "    if not shared_tokens:\n",
    "        return 0\n",
    "\n",
    "    precision = len(shared_tokens) / len(predicted_tokens)\n",
    "    recall = len(shared_tokens) / len(actual_tokens)\n",
    "    return 2 * (precision * recall) / (precision + recall)"
   ]
  },
  {
   "cell_type": "code",
   "execution_count": 40,
   "id": "bd4f3bf5-4293-4a81-b413-5dedc8a872e5",
   "metadata": {
    "execution": {
     "iopub.execute_input": "2024-11-25T04:45:37.068084Z",
     "iopub.status.busy": "2024-11-25T04:45:37.067809Z",
     "iopub.status.idle": "2024-11-25T04:45:37.080578Z",
     "shell.execute_reply": "2024-11-25T04:45:37.079804Z",
     "shell.execute_reply.started": "2024-11-25T04:45:37.068059Z"
    },
    "id": "bd4f3bf5-4293-4a81-b413-5dedc8a872e5"
   },
   "outputs": [],
   "source": [
    "def give_an_answer(context,query,true_answer):\n",
    "    predicted_answer = get_prediction(context,query)\n",
    "    exact_match_score = calculate_exact_match(predicted_answer, true_answer)\n",
    "    f1_score = calculate_f1_score(predicted_answer, true_answer)\n",
    "    print(f\"Actual Question: {query}\")\n",
    "    print(\"===========================\")\n",
    "    print(f\"Prediction Answer: {predicted_answer}\")\n",
    "    print(f\"True Answer: {true_answer}\")\n",
    "    exact_match = ''\n",
    "    if exact_match_score == 0:\n",
    "      exact_match = 'No'\n",
    "    else:\n",
    "      exact_match = 'Yes'\n",
    "    print(f\"Exact Match Score: {exact_match}\")\n",
    "    print(f\"F1: {f1_score}\")\n",
    "    print(\"\\n\")"
   ]
  },
  {
   "cell_type": "markdown",
   "id": "3Ob9fNa_SQTu",
   "metadata": {
    "id": "3Ob9fNa_SQTu"
   },
   "source": [
    "#### Performing Inference on some sample data from the Training Dataset from SQUAD dataset"
   ]
  },
  {
   "cell_type": "code",
   "execution_count": 41,
   "id": "_X-e6OxbRfVl",
   "metadata": {
    "id": "_X-e6OxbRfVl"
   },
   "outputs": [],
   "source": [
    "data_split = 'train'\n",
    "squad_data = SQuAD2(split=data_split)\n",
    "\n",
    "context_dict = {}\n",
    "for i, sample in enumerate(squad_data):\n",
    "    context, question, answers, answer_starts = sample\n",
    "    answer = answers[0]\n",
    "\n",
    "    if context not in context_dict:\n",
    "        context_dict[context] = {'questions': [], 'answers': []}\n",
    "\n",
    "    context_dict[context]['questions'].append(question)\n",
    "    context_dict[context]['answers'].append(answer)\n",
    "\n",
    "    if len(context_dict) == 5:\n",
    "        break"
   ]
  },
  {
   "cell_type": "code",
   "execution_count": 42,
   "id": "n5pWgy_ONq8_",
   "metadata": {
    "colab": {
     "base_uri": "https://localhost:8080/"
    },
    "id": "n5pWgy_ONq8_",
    "outputId": "8e8c4d90-41bb-4719-91cf-ba9b33b902b4"
   },
   "outputs": [
    {
     "name": "stdout",
     "output_type": "stream",
     "text": [
      "Actual Question: When did Beyonce start becoming popular?\n",
      "===========================\n",
      "Prediction Answer: late 1990s\n",
      "True Answer: in the late 1990s\n",
      "Exact Match Score: No\n",
      "F1: 0.8\n",
      "\n",
      "\n",
      "Actual Question: What areas did Beyonce compete in when she was growing up?\n",
      "===========================\n",
      "Prediction Answer: singing and dancing\n",
      "True Answer: singing and dancing\n",
      "Exact Match Score: Yes\n",
      "F1: 1.0\n",
      "\n",
      "\n",
      "Actual Question: When did Beyonce leave Destiny's Child and become a solo singer?\n",
      "===========================\n",
      "Prediction Answer: \n",
      "True Answer: 2003\n",
      "Exact Match Score: No\n",
      "F1: 0\n",
      "\n",
      "\n",
      "Actual Question: In what city and state did Beyonce  grow up? \n",
      "===========================\n",
      "Prediction Answer: houston, texas\n",
      "True Answer: Houston, Texas\n",
      "Exact Match Score: Yes\n",
      "F1: 1.0\n",
      "\n",
      "\n",
      "Actual Question: In which decade did Beyonce become famous?\n",
      "===========================\n",
      "Prediction Answer: late 1990s\n",
      "True Answer: late 1990s\n",
      "Exact Match Score: Yes\n",
      "F1: 1.0\n",
      "\n",
      "\n",
      "Actual Question: In what R&B group was she the lead singer?\n",
      "===========================\n",
      "Prediction Answer: destiny ' s child\n",
      "True Answer: Destiny's Child\n",
      "Exact Match Score: No\n",
      "F1: 0.4\n",
      "\n",
      "\n",
      "Actual Question: What album made her a worldwide known artist?\n",
      "===========================\n",
      "Prediction Answer: dangerously in love\n",
      "True Answer: Dangerously in Love\n",
      "Exact Match Score: Yes\n",
      "F1: 1.0\n",
      "\n",
      "\n",
      "Actual Question: Who managed the Destiny's Child group?\n",
      "===========================\n",
      "Prediction Answer: mathew knowles\n",
      "True Answer: Mathew Knowles\n",
      "Exact Match Score: Yes\n",
      "F1: 1.0\n",
      "\n",
      "\n",
      "Actual Question: When did Beyoncé rise to fame?\n",
      "===========================\n",
      "Prediction Answer: the late 1990s\n",
      "True Answer: late 1990s\n",
      "Exact Match Score: Yes\n",
      "F1: 1.0\n",
      "\n",
      "\n",
      "Actual Question: What role did Beyoncé have in Destiny's Child?\n",
      "===========================\n",
      "Prediction Answer: lead singer\n",
      "True Answer: lead singer\n",
      "Exact Match Score: Yes\n",
      "F1: 1.0\n",
      "\n",
      "\n",
      "Actual Question: What was the first album Beyoncé released as a solo artist?\n",
      "===========================\n",
      "Prediction Answer: dangerously in love\n",
      "True Answer: Dangerously in Love\n",
      "Exact Match Score: Yes\n",
      "F1: 1.0\n",
      "\n",
      "\n",
      "Actual Question: When did Beyoncé release Dangerously in Love?\n",
      "===========================\n",
      "Prediction Answer: \n",
      "True Answer: 2003\n",
      "Exact Match Score: No\n",
      "F1: 0\n",
      "\n",
      "\n",
      "Actual Question: How many Grammy awards did Beyoncé win for her first solo album?\n",
      "===========================\n",
      "Prediction Answer: five\n",
      "True Answer: five\n",
      "Exact Match Score: Yes\n",
      "F1: 1.0\n",
      "\n",
      "\n",
      "Actual Question: What was Beyoncé's role in Destiny's Child?\n",
      "===========================\n",
      "Prediction Answer: lead singer\n",
      "True Answer: lead singer\n",
      "Exact Match Score: Yes\n",
      "F1: 1.0\n",
      "\n",
      "\n",
      "Actual Question: What was the name of Beyoncé's first solo album?\n",
      "===========================\n",
      "Prediction Answer: dangerously in love\n",
      "True Answer: Dangerously in Love\n",
      "Exact Match Score: Yes\n",
      "F1: 1.0\n",
      "\n",
      "\n",
      "Actual Question: After her second solo album, what other entertainment venture did Beyonce explore?\n",
      "===========================\n",
      "Prediction Answer: acting\n",
      "True Answer: acting\n",
      "Exact Match Score: Yes\n",
      "F1: 1.0\n",
      "\n",
      "\n",
      "Actual Question: Which artist did Beyonce marry?\n",
      "===========================\n",
      "Prediction Answer: jay z\n",
      "True Answer: Jay Z\n",
      "Exact Match Score: Yes\n",
      "F1: 1.0\n",
      "\n",
      "\n",
      "Actual Question: To set the record for Grammys, how many did Beyonce win?\n",
      "===========================\n",
      "Prediction Answer: six\n",
      "True Answer: six\n",
      "Exact Match Score: Yes\n",
      "F1: 1.0\n",
      "\n",
      "\n",
      "Actual Question: For what movie did Beyonce receive  her first Golden Globe nomination?\n",
      "===========================\n",
      "Prediction Answer: dreamgirls\n",
      "True Answer: Dreamgirls\n",
      "Exact Match Score: Yes\n",
      "F1: 1.0\n",
      "\n",
      "\n",
      "Actual Question: When did Beyonce take a hiatus in her career and take control of her management?\n",
      "===========================\n",
      "Prediction Answer: 2010\n",
      "True Answer: 2010\n",
      "Exact Match Score: Yes\n",
      "F1: 1.0\n",
      "\n",
      "\n",
      "Actual Question: Which album was darker in tone from her previous work?\n",
      "===========================\n",
      "Prediction Answer: beyonce\n",
      "True Answer: Beyoncé\n",
      "Exact Match Score: No\n",
      "F1: 0\n",
      "\n",
      "\n",
      "Actual Question: After what movie portraying Etta James, did Beyonce create Sasha Fierce?\n",
      "===========================\n",
      "Prediction Answer: cadillac records\n",
      "True Answer: Cadillac Records\n",
      "Exact Match Score: Yes\n",
      "F1: 1.0\n",
      "\n",
      "\n",
      "Actual Question: When did Destiny's Child end their group act?\n",
      "===========================\n",
      "Prediction Answer: june 2005\n",
      "True Answer: June 2005\n",
      "Exact Match Score: Yes\n",
      "F1: 1.0\n",
      "\n",
      "\n",
      "Actual Question: What was the name of Beyoncé's second solo album?\n",
      "===========================\n",
      "Prediction Answer: b ' day\n",
      "True Answer: B'Day\n",
      "Exact Match Score: No\n",
      "F1: 0\n",
      "\n",
      "\n",
      "Actual Question: What was Beyoncé's first acting job, in 2006?\n",
      "===========================\n",
      "Prediction Answer: dreamgirls\n",
      "True Answer: Dreamgirls\n",
      "Exact Match Score: Yes\n",
      "F1: 1.0\n",
      "\n",
      "\n",
      "Actual Question: Who is Beyoncé married to?\n",
      "===========================\n",
      "Prediction Answer: jay z\n",
      "True Answer: Jay Z\n",
      "Exact Match Score: Yes\n",
      "F1: 1.0\n",
      "\n",
      "\n",
      "Actual Question: What is the name of Beyoncé's alter-ego?\n",
      "===========================\n",
      "Prediction Answer: sasha fierce\n",
      "True Answer: Sasha Fierce\n",
      "Exact Match Score: Yes\n",
      "F1: 1.0\n",
      "\n",
      "\n",
      "Actual Question: In her music, what are some recurring elements in them?\n",
      "===========================\n",
      "Prediction Answer: love, relationships, and monogamy\n",
      "True Answer: love, relationships, and monogamy\n",
      "Exact Match Score: Yes\n",
      "F1: 1.0\n",
      "\n",
      "\n",
      "Actual Question: Time magazine named her one of the most 100 what people of the century?\n",
      "===========================\n",
      "Prediction Answer: influential\n",
      "True Answer: influential\n",
      "Exact Match Score: Yes\n",
      "F1: 1.0\n",
      "\n",
      "\n",
      "Actual Question: Which magazine declared her the most dominant woman musician?\n",
      "===========================\n",
      "Prediction Answer: forbes\n",
      "True Answer: Forbes\n",
      "Exact Match Score: Yes\n",
      "F1: 1.0\n",
      "\n",
      "\n",
      "Actual Question: In which decade did the Recording Industry Association of America recognize Beyonce as the The Top Certified Artist?\n",
      "===========================\n",
      "Prediction Answer: 2000s\n",
      "True Answer: 2000s\n",
      "Exact Match Score: Yes\n",
      "F1: 1.0\n",
      "\n",
      "\n",
      "Actual Question: What magazine rated Beyonce as the most powerful female musician in 2015?\n",
      "===========================\n",
      "Prediction Answer: forbes\n",
      "True Answer: Forbes\n",
      "Exact Match Score: Yes\n",
      "F1: 1.0\n",
      "\n",
      "\n",
      "Actual Question: How did Beyonce describe herself as a feminist?\n",
      "===========================\n",
      "Prediction Answer: modern - day feminist\n",
      "True Answer: modern-day feminist\n",
      "Exact Match Score: No\n",
      "F1: 0.4\n",
      "\n",
      "\n",
      "Actual Question: In which years did Time rate Beyonce in the 100 most influential people in the world?\n",
      "===========================\n",
      "Prediction Answer: 2013 and 2014\n",
      "True Answer: 2013 and 2014\n",
      "Exact Match Score: Yes\n",
      "F1: 1.0\n",
      "\n",
      "\n",
      "Actual Question: How many records has Beyonce sold in her 19 year career?\n",
      "===========================\n",
      "Prediction Answer: 118 million\n",
      "True Answer: 118 million\n",
      "Exact Match Score: Yes\n",
      "F1: 1.0\n",
      "\n",
      "\n",
      "Actual Question: How many records did Beyoncé sell as part of Destiny's Child?\n",
      "===========================\n",
      "Prediction Answer: 60 million\n",
      "True Answer: 60 million\n",
      "Exact Match Score: Yes\n",
      "F1: 1.0\n",
      "\n",
      "\n",
      "Actual Question: After leaving Destiny's Child, how many records did Beyoncé release under her own name?\n",
      "===========================\n",
      "Prediction Answer: 118 million\n",
      "True Answer: 118 million\n",
      "Exact Match Score: Yes\n",
      "F1: 1.0\n",
      "\n",
      "\n",
      "Actual Question: How many Grammy awards has Beyoncé won?\n",
      "===========================\n",
      "Prediction Answer: 20\n",
      "True Answer: 20\n",
      "Exact Match Score: Yes\n",
      "F1: 1.0\n",
      "\n",
      "\n",
      "Actual Question: What magazine named Beyoncé as the most powerful female musician for 2015?\n",
      "===========================\n",
      "Prediction Answer: forbes\n",
      "True Answer: Forbes\n",
      "Exact Match Score: Yes\n",
      "F1: 1.0\n",
      "\n",
      "\n",
      "Actual Question: Beyonce's younger sibling also sang with her in what band?\n",
      "===========================\n",
      "Prediction Answer: destiny ' s child\n",
      "True Answer: Destiny's Child\n",
      "Exact Match Score: No\n",
      "F1: 0.4\n",
      "\n",
      "\n",
      "Actual Question: Where did Beyonce get her name from?\n",
      "===========================\n",
      "Prediction Answer: her mother ' s maiden name\n",
      "True Answer: her mother's maiden name\n",
      "Exact Match Score: No\n",
      "F1: 0.6666666666666665\n",
      "\n",
      "\n",
      "Actual Question: What race was Beyonce's father?\n",
      "===========================\n",
      "Prediction Answer: african - american\n",
      "True Answer: African-American\n",
      "Exact Match Score: No\n",
      "F1: 0\n",
      "\n",
      "\n",
      "Actual Question: Beyonce's childhood home believed in what religion?\n",
      "===========================\n",
      "Prediction Answer: methodist\n",
      "True Answer: Methodist\n",
      "Exact Match Score: Yes\n",
      "F1: 1.0\n",
      "\n",
      "\n",
      "Actual Question: Beyonce's father worked as a sales manager for what company?\n",
      "===========================\n",
      "Prediction Answer: xerox\n",
      "True Answer: Xerox\n",
      "Exact Match Score: Yes\n",
      "F1: 1.0\n",
      "\n",
      "\n",
      "Actual Question: Beyonce's mother worked in what industry?\n",
      "===========================\n",
      "Prediction Answer: hairdresser and salon owner\n",
      "True Answer: hairdresser and salon owner\n",
      "Exact Match Score: Yes\n",
      "F1: 1.0\n",
      "\n",
      "\n",
      "Actual Question: What younger sister of Beyonce also appeared in Destiny's Child?\n",
      "===========================\n",
      "Prediction Answer: solange\n",
      "True Answer: Solange\n",
      "Exact Match Score: Yes\n",
      "F1: 1.0\n",
      "\n",
      "\n",
      "Actual Question: Beyonce is a descendent of what Arcadian leader?\n",
      "===========================\n",
      "Prediction Answer: joseph broussard\n",
      "True Answer: Joseph Broussard\n",
      "Exact Match Score: Yes\n",
      "F1: 1.0\n",
      "\n",
      "\n",
      "Actual Question: What company did Beyoncé's father work for when she was a child?\n",
      "===========================\n",
      "Prediction Answer: xerox\n",
      "True Answer: Xerox\n",
      "Exact Match Score: Yes\n",
      "F1: 1.0\n",
      "\n",
      "\n",
      "Actual Question: What did Beyoncé's mother own when Beyoncé was a child?\n",
      "===========================\n",
      "Prediction Answer: salon\n",
      "True Answer: salon\n",
      "Exact Match Score: Yes\n",
      "F1: 1.0\n",
      "\n",
      "\n",
      "Actual Question: What is the name of Beyoncé's younger sister?\n",
      "===========================\n",
      "Prediction Answer: solange\n",
      "True Answer: Solange\n",
      "Exact Match Score: Yes\n",
      "F1: 1.0\n",
      "\n",
      "\n",
      "Actual Question: Beyoncé is a descendant of which Acadian leader?\n",
      "===========================\n",
      "Prediction Answer: joseph broussard\n",
      "True Answer: Joseph Broussard.\n",
      "Exact Match Score: Yes\n",
      "F1: 1.0\n",
      "\n",
      "\n",
      "Actual Question: Beyoncé was raised in what religion?\n",
      "===========================\n",
      "Prediction Answer: methodist\n",
      "True Answer: Methodist\n",
      "Exact Match Score: Yes\n",
      "F1: 1.0\n",
      "\n",
      "\n",
      "Actual Question: What town did Beyonce go to school in?\n",
      "===========================\n",
      "Prediction Answer: fredericksburg\n",
      "True Answer: Fredericksburg\n",
      "Exact Match Score: Yes\n",
      "F1: 1.0\n",
      "\n",
      "\n"
     ]
    }
   ],
   "source": [
    "for context, qa in context_dict.items():\n",
    "    questions = qa['questions']\n",
    "    answers = qa['answers']\n",
    "    for ques, ans in zip(questions, answers):\n",
    "        give_an_answer(context, ques, ans)"
   ]
  },
  {
   "cell_type": "markdown",
   "id": "ZQEhfd2MSgrV",
   "metadata": {
    "id": "ZQEhfd2MSgrV"
   },
   "source": [
    "#### Performing Inference on Generic Question and Answers"
   ]
  },
  {
   "cell_type": "code",
   "execution_count": 43,
   "id": "c8dfae65-06f0-4aab-9572-b4ef026a325b",
   "metadata": {
    "colab": {
     "base_uri": "https://localhost:8080/"
    },
    "execution": {
     "iopub.execute_input": "2024-11-25T04:51:20.988189Z",
     "iopub.status.busy": "2024-11-25T04:51:20.987359Z",
     "iopub.status.idle": "2024-11-25T04:51:21.028148Z",
     "shell.execute_reply": "2024-11-25T04:51:21.027307Z",
     "shell.execute_reply.started": "2024-11-25T04:51:20.988154Z"
    },
    "id": "c8dfae65-06f0-4aab-9572-b4ef026a325b",
    "outputId": "88c782a0-32ff-4041-d1e1-f08ee9c39037"
   },
   "outputs": [
    {
     "name": "stdout",
     "output_type": "stream",
     "text": [
      "Actual Question: Where was Eshita Born?\n",
      "===========================\n",
      "Prediction Answer: india\n",
      "True Answer: India\n",
      "Exact Match Score: Yes\n",
      "F1: 1.0\n",
      "\n",
      "\n",
      "Actual Question: What does Eshita do?\n",
      "===========================\n",
      "Prediction Answer: msda\n",
      "True Answer: Student at SJSU\n",
      "Exact Match Score: No\n",
      "F1: 0\n",
      "\n",
      "\n",
      "Actual Question: What is her SJSU ID?\n",
      "===========================\n",
      "Prediction Answer: 016978741\n",
      "True Answer: 016978741\n",
      "Exact Match Score: Yes\n",
      "F1: 1.0\n",
      "\n",
      "\n",
      "Actual Question: Which semester is Eshita currently in ?\n",
      "===========================\n",
      "Prediction Answer: 3rd\n",
      "True Answer: 3rd\n",
      "Exact Match Score: Yes\n",
      "F1: 1.0\n",
      "\n",
      "\n"
     ]
    }
   ],
   "source": [
    "context = \"\"\"This is Eshita Gupta, born in India. She is currently a Student at SJSU doing MSDA. Her SJSU ID is 016978741.\n",
    "              She is in 3rd Semester.\"\"\"\n",
    "questions = [\"Where was Eshita Born?\",\n",
    "           \"What does Eshita do?\",\n",
    "           \"What is her SJSU ID?\",\n",
    "           \"Which semester is Eshita currently in ?\",\n",
    "          ]\n",
    "answers = [\"India\",\n",
    "           \"Student at SJSU\",\n",
    "           \"016978741\",\n",
    "           \"3rd\"\n",
    "          ]\n",
    "for ques,ans in zip(questions,answers):\n",
    "    give_an_answer(context,ques,ans)"
   ]
  },
  {
   "cell_type": "markdown",
   "id": "b5dd61af-7ff6-4511-bfbe-c8194230bb53",
   "metadata": {},
   "source": [
    "#### Performing Inference on some sample data from the Validation Dataset from SQUAD dataset¶"
   ]
  },
  {
   "cell_type": "code",
   "execution_count": 44,
   "id": "_rzI-2CB7lVA",
   "metadata": {
    "id": "_rzI-2CB7lVA"
   },
   "outputs": [],
   "source": [
    "data_split = 'dev'\n",
    "squad_data = SQuAD2(split=data_split)\n",
    "\n",
    "context_dict = {}\n",
    "for i, sample in enumerate(squad_data):\n",
    "    context, question, answers, answer_starts = sample\n",
    "    answer = answers[0]\n",
    "\n",
    "    if context not in context_dict:\n",
    "        context_dict[context] = {'questions': [], 'answers': []}\n",
    "\n",
    "    context_dict[context]['questions'].append(question)\n",
    "    context_dict[context]['answers'].append(answer)\n",
    "\n",
    "    if len(context_dict) == 5:\n",
    "        break"
   ]
  },
  {
   "cell_type": "code",
   "execution_count": 45,
   "id": "8N6NahWg7tO1",
   "metadata": {
    "colab": {
     "base_uri": "https://localhost:8080/"
    },
    "id": "8N6NahWg7tO1",
    "outputId": "5546f581-a684-45e1-cf6f-7b8805b328ec"
   },
   "outputs": [
    {
     "name": "stdout",
     "output_type": "stream",
     "text": [
      "Actual Question: In what country is Normandy located?\n",
      "===========================\n",
      "Prediction Answer: france\n",
      "True Answer: France\n",
      "Exact Match Score: Yes\n",
      "F1: 1.0\n",
      "\n",
      "\n",
      "Actual Question: When were the Normans in Normandy?\n",
      "===========================\n",
      "Prediction Answer: the 10th and 11th centuries\n",
      "True Answer: 10th and 11th centuries\n",
      "Exact Match Score: Yes\n",
      "F1: 1.0\n",
      "\n",
      "\n",
      "Actual Question: From which countries did the Norse originate?\n",
      "===========================\n",
      "Prediction Answer: denmark, iceland and norway\n",
      "True Answer: Denmark, Iceland and Norway\n",
      "Exact Match Score: Yes\n",
      "F1: 1.0\n",
      "\n",
      "\n",
      "Actual Question: Who was the Norse leader?\n",
      "===========================\n",
      "Prediction Answer: rollo\n",
      "True Answer: Rollo\n",
      "Exact Match Score: Yes\n",
      "F1: 1.0\n",
      "\n",
      "\n",
      "Actual Question: What century did the Normans first gain their separate identity?\n",
      "===========================\n",
      "Prediction Answer: \n",
      "True Answer: 10th century\n",
      "Exact Match Score: No\n",
      "F1: 0\n",
      "\n",
      "\n",
      "Actual Question: Who gave their name to Normandy in the 1000's and 1100's\n",
      "===========================\n",
      "Prediction Answer: the normans\n",
      "True Answer: \n",
      "Exact Match Score: No\n",
      "F1: 0\n",
      "\n",
      "\n",
      "Actual Question: What is France a region of?\n",
      "===========================\n",
      "Prediction Answer: normandy\n",
      "True Answer: \n",
      "Exact Match Score: No\n",
      "F1: 0\n",
      "\n",
      "\n",
      "Actual Question: Who did King Charles III swear fealty to?\n",
      "===========================\n",
      "Prediction Answer: the normans\n",
      "True Answer: \n",
      "Exact Match Score: No\n",
      "F1: 0\n",
      "\n",
      "\n",
      "Actual Question: When did the Frankish identity emerge?\n",
      "===========================\n",
      "Prediction Answer: the 10th century\n",
      "True Answer: \n",
      "Exact Match Score: No\n",
      "F1: 0\n",
      "\n",
      "\n",
      "Actual Question: Who was the duke in the battle of Hastings?\n",
      "===========================\n",
      "Prediction Answer: william the conqueror\n",
      "True Answer: William the Conqueror\n",
      "Exact Match Score: Yes\n",
      "F1: 1.0\n",
      "\n",
      "\n",
      "Actual Question: Who ruled the duchy of Normandy\n",
      "===========================\n",
      "Prediction Answer: richard i\n",
      "True Answer: Richard I\n",
      "Exact Match Score: Yes\n",
      "F1: 1.0\n",
      "\n",
      "\n",
      "Actual Question: What religion were the Normans\n",
      "===========================\n",
      "Prediction Answer: catholic orthodoxy\n",
      "True Answer: Catholic\n",
      "Exact Match Score: No\n",
      "F1: 0.6666666666666666\n",
      "\n",
      "\n",
      "Actual Question: What type of major impact did the Norman dynasty have on modern Europe?\n",
      "===========================\n",
      "Prediction Answer: political, cultural and military impact on medieval europe and even the near east\n",
      "True Answer: \n",
      "Exact Match Score: No\n",
      "F1: 0\n",
      "\n",
      "\n",
      "Actual Question: Who was famed for their Christian spirit?\n",
      "===========================\n",
      "Prediction Answer: the normans\n",
      "True Answer: \n",
      "Exact Match Score: No\n",
      "F1: 0\n",
      "\n",
      "\n",
      "Actual Question: Who assimilted the Roman language?\n",
      "===========================\n",
      "Prediction Answer: \n",
      "True Answer: \n",
      "Exact Match Score: Yes\n",
      "F1: 1\n",
      "\n",
      "\n",
      "Actual Question: Who ruled the country of Normandy?\n",
      "===========================\n",
      "Prediction Answer: richard i\n",
      "True Answer: \n",
      "Exact Match Score: No\n",
      "F1: 0\n",
      "\n",
      "\n",
      "Actual Question: What principality did William the conquerer found?\n",
      "===========================\n",
      "Prediction Answer: \n",
      "True Answer: \n",
      "Exact Match Score: Yes\n",
      "F1: 1\n",
      "\n",
      "\n",
      "Actual Question: What is the original meaning of the word Norman?\n",
      "===========================\n",
      "Prediction Answer: normanz\n",
      "True Answer: Viking\n",
      "Exact Match Score: No\n",
      "F1: 0\n",
      "\n",
      "\n",
      "Actual Question: When was the Latin version of the word Norman first recorded?\n",
      "===========================\n",
      "Prediction Answer: normanz\n",
      "True Answer: 9th century\n",
      "Exact Match Score: No\n",
      "F1: 0\n",
      "\n",
      "\n",
      "Actual Question: What name comes from the English words Normans/Normanz?\n",
      "===========================\n",
      "Prediction Answer: normans / normanz? [SEP] the english name \" normans\n",
      "True Answer: \n",
      "Exact Match Score: No\n",
      "F1: 0\n",
      "\n",
      "\n",
      "Actual Question: When was the French version of the word Norman first recorded?\n",
      "===========================\n",
      "Prediction Answer: normanz\n",
      "True Answer: \n",
      "Exact Match Score: No\n",
      "F1: 0\n",
      "\n",
      "\n",
      "Actual Question: When was the Duchy of Normandy founded?\n",
      "===========================\n",
      "Prediction Answer: 911\n",
      "True Answer: 911\n",
      "Exact Match Score: Yes\n",
      "F1: 1.0\n",
      "\n",
      "\n",
      "Actual Question: Who did Rollo sign the treaty of Saint-Clair-sur-Epte with?\n",
      "===========================\n",
      "Prediction Answer: king charles iii of west francia\n",
      "True Answer: King Charles III\n",
      "Exact Match Score: No\n",
      "F1: 0.6666666666666666\n",
      "\n",
      "\n",
      "Actual Question: What river originally bounded the Duchy\n",
      "===========================\n",
      "Prediction Answer: seine\n",
      "True Answer: Seine\n",
      "Exact Match Score: Yes\n",
      "F1: 1.0\n",
      "\n",
      "\n",
      "Actual Question: when did Nors encampments ivolve into destructive incursions?\n",
      "===========================\n",
      "Prediction Answer: the 10th century\n",
      "True Answer: \n",
      "Exact Match Score: No\n",
      "F1: 0\n",
      "\n",
      "\n",
      "Actual Question: What treaty was established in the 9th century?\n",
      "===========================\n",
      "Prediction Answer: treaty of saint - clair - sur - epte\n",
      "True Answer: \n",
      "Exact Match Score: No\n",
      "F1: 0\n",
      "\n",
      "\n",
      "Actual Question: Who established a treaty with King Charles the third of France?\n",
      "===========================\n",
      "Prediction Answer: \n",
      "True Answer: \n",
      "Exact Match Score: Yes\n",
      "F1: 1\n",
      "\n",
      "\n",
      "Actual Question: What did the French promises to protect Rollo and his men from?\n",
      "===========================\n",
      "Prediction Answer: viking incursions\n",
      "True Answer: \n",
      "Exact Match Score: No\n",
      "F1: 0\n",
      "\n",
      "\n",
      "Actual Question: Who upon arriving gave the original viking settlers a common identity?\n",
      "===========================\n",
      "Prediction Answer: rollo\n",
      "True Answer: Rollo\n",
      "Exact Match Score: Yes\n",
      "F1: 1.0\n",
      "\n",
      "\n"
     ]
    }
   ],
   "source": [
    "for context, qa in context_dict.items():\n",
    "    questions = qa['questions']\n",
    "    answers = qa['answers']\n",
    "    for ques, ans in zip(questions, answers):\n",
    "        give_an_answer(context, ques, ans)"
   ]
  },
  {
   "cell_type": "markdown",
   "id": "a3c3a886-b0f4-4f3d-9b70-b2ddc43c8af1",
   "metadata": {
    "id": "a3c3a886-b0f4-4f3d-9b70-b2ddc43c8af1"
   },
   "source": [
    "## Thank You"
   ]
  }
 ],
 "metadata": {
  "accelerator": "GPU",
  "colab": {
   "gpuType": "T4",
   "provenance": []
  },
  "kaggle": {
   "accelerator": "gpu",
   "dataSources": [],
   "dockerImageVersionId": 30787,
   "isGpuEnabled": true,
   "isInternetEnabled": true,
   "language": "python",
   "sourceType": "notebook"
  },
  "kernelspec": {
   "display_name": "Python 3 (ipykernel)",
   "language": "python",
   "name": "python3"
  },
  "language_info": {
   "codemirror_mode": {
    "name": "ipython",
    "version": 3
   },
   "file_extension": ".py",
   "mimetype": "text/x-python",
   "name": "python",
   "nbconvert_exporter": "python",
   "pygments_lexer": "ipython3",
   "version": "3.12.3"
  }
 },
 "nbformat": 4,
 "nbformat_minor": 5
}
